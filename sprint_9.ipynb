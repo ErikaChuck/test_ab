{
 "cells": [
  {
   "cell_type": "markdown",
   "metadata": {},
   "source": [
    "# Proyecto 9: Tomar decisiones de negocios basadas en datos\n",
    "\n",
    "Eres analista en una gran tienda en línea. Junto con el departamento de marketing has recopilado una lista de hipótesis que pueden ayudar a aumentar los ingresos. \n",
    "\n",
    "Tienes que priorizar estas hipótesis, lanzar un test A/B y analizar los resultados.\n",
    "\n"
   ]
  },
  {
   "cell_type": "markdown",
   "metadata": {},
   "source": [
    "## Priorizar hipótesis"
   ]
  },
  {
   "cell_type": "code",
   "execution_count": 24,
   "metadata": {},
   "outputs": [],
   "source": [
    "#cargaremos las librerías necesarias\n",
    "import pandas as pd\n",
    "import matplotlib.pyplot as plt\n",
    "import numpy as np"
   ]
  },
  {
   "cell_type": "code",
   "execution_count": 25,
   "metadata": {},
   "outputs": [],
   "source": [
    "#Descargamos los datos\n",
    "hipotesis = pd.read_csv('hypotheses_us.csv', sep=';')\n",
    "orders = pd.read_csv('orders_us.csv')\n",
    "visits = pd.read_csv('visits_us.csv')"
   ]
  },
  {
   "cell_type": "markdown",
   "metadata": {},
   "source": [
    "### Preparación de los datos"
   ]
  },
  {
   "cell_type": "markdown",
   "metadata": {},
   "source": [
    "#### Optimización de datos"
   ]
  },
  {
   "cell_type": "code",
   "execution_count": 26,
   "metadata": {},
   "outputs": [
    {
     "name": "stdout",
     "output_type": "stream",
     "text": [
      "<class 'pandas.core.frame.DataFrame'>\n",
      "RangeIndex: 9 entries, 0 to 8\n",
      "Data columns (total 5 columns):\n",
      " #   Column      Non-Null Count  Dtype \n",
      "---  ------      --------------  ----- \n",
      " 0   Hypothesis  9 non-null      object\n",
      " 1   Reach       9 non-null      int64 \n",
      " 2   Impact      9 non-null      int64 \n",
      " 3   Confidence  9 non-null      int64 \n",
      " 4   Effort      9 non-null      int64 \n",
      "dtypes: int64(4), object(1)\n",
      "memory usage: 492.0+ bytes\n"
     ]
    }
   ],
   "source": [
    "#Revisamos los datos de hipotesis\n",
    "hipotesis.info(show_counts = True)"
   ]
  },
  {
   "cell_type": "code",
   "execution_count": 27,
   "metadata": {},
   "outputs": [
    {
     "data": {
      "text/html": [
       "<div>\n",
       "<style scoped>\n",
       "    .dataframe tbody tr th:only-of-type {\n",
       "        vertical-align: middle;\n",
       "    }\n",
       "\n",
       "    .dataframe tbody tr th {\n",
       "        vertical-align: top;\n",
       "    }\n",
       "\n",
       "    .dataframe thead th {\n",
       "        text-align: right;\n",
       "    }\n",
       "</style>\n",
       "<table border=\"1\" class=\"dataframe\">\n",
       "  <thead>\n",
       "    <tr style=\"text-align: right;\">\n",
       "      <th></th>\n",
       "      <th>Hypothesis</th>\n",
       "      <th>Reach</th>\n",
       "      <th>Impact</th>\n",
       "      <th>Confidence</th>\n",
       "      <th>Effort</th>\n",
       "    </tr>\n",
       "  </thead>\n",
       "  <tbody>\n",
       "    <tr>\n",
       "      <th>0</th>\n",
       "      <td>Add two new channels for attracting traffic. T...</td>\n",
       "      <td>3</td>\n",
       "      <td>10</td>\n",
       "      <td>8</td>\n",
       "      <td>6</td>\n",
       "    </tr>\n",
       "    <tr>\n",
       "      <th>1</th>\n",
       "      <td>Launch your own delivery service. This will sh...</td>\n",
       "      <td>2</td>\n",
       "      <td>5</td>\n",
       "      <td>4</td>\n",
       "      <td>10</td>\n",
       "    </tr>\n",
       "    <tr>\n",
       "      <th>2</th>\n",
       "      <td>Add product recommendation blocks to the store...</td>\n",
       "      <td>8</td>\n",
       "      <td>3</td>\n",
       "      <td>7</td>\n",
       "      <td>3</td>\n",
       "    </tr>\n",
       "    <tr>\n",
       "      <th>3</th>\n",
       "      <td>Change the category structure. This will incre...</td>\n",
       "      <td>8</td>\n",
       "      <td>3</td>\n",
       "      <td>3</td>\n",
       "      <td>8</td>\n",
       "    </tr>\n",
       "    <tr>\n",
       "      <th>4</th>\n",
       "      <td>Change the background color on the main page. ...</td>\n",
       "      <td>3</td>\n",
       "      <td>1</td>\n",
       "      <td>1</td>\n",
       "      <td>1</td>\n",
       "    </tr>\n",
       "    <tr>\n",
       "      <th>5</th>\n",
       "      <td>Add a customer review page. This will increase...</td>\n",
       "      <td>3</td>\n",
       "      <td>2</td>\n",
       "      <td>2</td>\n",
       "      <td>3</td>\n",
       "    </tr>\n",
       "    <tr>\n",
       "      <th>6</th>\n",
       "      <td>Show banners with current offers and sales on ...</td>\n",
       "      <td>5</td>\n",
       "      <td>3</td>\n",
       "      <td>8</td>\n",
       "      <td>3</td>\n",
       "    </tr>\n",
       "    <tr>\n",
       "      <th>7</th>\n",
       "      <td>Add a subscription form to all the main pages....</td>\n",
       "      <td>10</td>\n",
       "      <td>7</td>\n",
       "      <td>8</td>\n",
       "      <td>5</td>\n",
       "    </tr>\n",
       "    <tr>\n",
       "      <th>8</th>\n",
       "      <td>Launch a promotion that gives users discounts ...</td>\n",
       "      <td>1</td>\n",
       "      <td>9</td>\n",
       "      <td>9</td>\n",
       "      <td>5</td>\n",
       "    </tr>\n",
       "  </tbody>\n",
       "</table>\n",
       "</div>"
      ],
      "text/plain": [
       "                                          Hypothesis  Reach  Impact  \\\n",
       "0  Add two new channels for attracting traffic. T...      3      10   \n",
       "1  Launch your own delivery service. This will sh...      2       5   \n",
       "2  Add product recommendation blocks to the store...      8       3   \n",
       "3  Change the category structure. This will incre...      8       3   \n",
       "4  Change the background color on the main page. ...      3       1   \n",
       "5  Add a customer review page. This will increase...      3       2   \n",
       "6  Show banners with current offers and sales on ...      5       3   \n",
       "7  Add a subscription form to all the main pages....     10       7   \n",
       "8  Launch a promotion that gives users discounts ...      1       9   \n",
       "\n",
       "   Confidence  Effort  \n",
       "0           8       6  \n",
       "1           4      10  \n",
       "2           7       3  \n",
       "3           3       8  \n",
       "4           1       1  \n",
       "5           2       3  \n",
       "6           8       3  \n",
       "7           8       5  \n",
       "8           9       5  "
      ]
     },
     "execution_count": 27,
     "metadata": {},
     "output_type": "execute_result"
    }
   ],
   "source": [
    "hipotesis"
   ]
  },
  {
   "cell_type": "code",
   "execution_count": 28,
   "metadata": {},
   "outputs": [
    {
     "name": "stdout",
     "output_type": "stream",
     "text": [
      "<class 'pandas.core.frame.DataFrame'>\n",
      "RangeIndex: 1197 entries, 0 to 1196\n",
      "Data columns (total 5 columns):\n",
      " #   Column         Non-Null Count  Dtype  \n",
      "---  ------         --------------  -----  \n",
      " 0   transactionId  1197 non-null   int64  \n",
      " 1   visitorId      1197 non-null   int64  \n",
      " 2   date           1197 non-null   object \n",
      " 3   revenue        1197 non-null   float64\n",
      " 4   group          1197 non-null   object \n",
      "dtypes: float64(1), int64(2), object(2)\n",
      "memory usage: 46.9+ KB\n"
     ]
    }
   ],
   "source": [
    "#Revisamos los datos de orders\n",
    "orders.info(show_counts=True)"
   ]
  },
  {
   "cell_type": "code",
   "execution_count": 29,
   "metadata": {},
   "outputs": [
    {
     "data": {
      "text/html": [
       "<div>\n",
       "<style scoped>\n",
       "    .dataframe tbody tr th:only-of-type {\n",
       "        vertical-align: middle;\n",
       "    }\n",
       "\n",
       "    .dataframe tbody tr th {\n",
       "        vertical-align: top;\n",
       "    }\n",
       "\n",
       "    .dataframe thead th {\n",
       "        text-align: right;\n",
       "    }\n",
       "</style>\n",
       "<table border=\"1\" class=\"dataframe\">\n",
       "  <thead>\n",
       "    <tr style=\"text-align: right;\">\n",
       "      <th></th>\n",
       "      <th>transactionId</th>\n",
       "      <th>visitorId</th>\n",
       "      <th>date</th>\n",
       "      <th>revenue</th>\n",
       "      <th>group</th>\n",
       "    </tr>\n",
       "  </thead>\n",
       "  <tbody>\n",
       "    <tr>\n",
       "      <th>0</th>\n",
       "      <td>3667963787</td>\n",
       "      <td>3312258926</td>\n",
       "      <td>2019-08-15</td>\n",
       "      <td>30.4</td>\n",
       "      <td>B</td>\n",
       "    </tr>\n",
       "    <tr>\n",
       "      <th>1</th>\n",
       "      <td>2804400009</td>\n",
       "      <td>3642806036</td>\n",
       "      <td>2019-08-15</td>\n",
       "      <td>15.2</td>\n",
       "      <td>B</td>\n",
       "    </tr>\n",
       "    <tr>\n",
       "      <th>2</th>\n",
       "      <td>2961555356</td>\n",
       "      <td>4069496402</td>\n",
       "      <td>2019-08-15</td>\n",
       "      <td>10.2</td>\n",
       "      <td>A</td>\n",
       "    </tr>\n",
       "    <tr>\n",
       "      <th>3</th>\n",
       "      <td>3797467345</td>\n",
       "      <td>1196621759</td>\n",
       "      <td>2019-08-15</td>\n",
       "      <td>155.1</td>\n",
       "      <td>B</td>\n",
       "    </tr>\n",
       "    <tr>\n",
       "      <th>4</th>\n",
       "      <td>2282983706</td>\n",
       "      <td>2322279887</td>\n",
       "      <td>2019-08-15</td>\n",
       "      <td>40.5</td>\n",
       "      <td>B</td>\n",
       "    </tr>\n",
       "  </tbody>\n",
       "</table>\n",
       "</div>"
      ],
      "text/plain": [
       "   transactionId   visitorId        date  revenue group\n",
       "0     3667963787  3312258926  2019-08-15     30.4     B\n",
       "1     2804400009  3642806036  2019-08-15     15.2     B\n",
       "2     2961555356  4069496402  2019-08-15     10.2     A\n",
       "3     3797467345  1196621759  2019-08-15    155.1     B\n",
       "4     2282983706  2322279887  2019-08-15     40.5     B"
      ]
     },
     "execution_count": 29,
     "metadata": {},
     "output_type": "execute_result"
    }
   ],
   "source": [
    "orders.head()"
   ]
  },
  {
   "cell_type": "code",
   "execution_count": 30,
   "metadata": {},
   "outputs": [],
   "source": [
    "#modificamos los datos de date \n",
    "orders['date'] =  pd.to_datetime(orders['date'], format=\"%Y-%m-%d\")"
   ]
  },
  {
   "cell_type": "code",
   "execution_count": 31,
   "metadata": {},
   "outputs": [
    {
     "name": "stdout",
     "output_type": "stream",
     "text": [
      "<class 'pandas.core.frame.DataFrame'>\n",
      "RangeIndex: 62 entries, 0 to 61\n",
      "Data columns (total 3 columns):\n",
      " #   Column  Non-Null Count  Dtype \n",
      "---  ------  --------------  ----- \n",
      " 0   date    62 non-null     object\n",
      " 1   group   62 non-null     object\n",
      " 2   visits  62 non-null     int64 \n",
      "dtypes: int64(1), object(2)\n",
      "memory usage: 1.6+ KB\n"
     ]
    }
   ],
   "source": [
    "#revisamos el archivo visits\n",
    "visits.info(show_counts=True)"
   ]
  },
  {
   "cell_type": "code",
   "execution_count": 32,
   "metadata": {},
   "outputs": [
    {
     "data": {
      "text/html": [
       "<div>\n",
       "<style scoped>\n",
       "    .dataframe tbody tr th:only-of-type {\n",
       "        vertical-align: middle;\n",
       "    }\n",
       "\n",
       "    .dataframe tbody tr th {\n",
       "        vertical-align: top;\n",
       "    }\n",
       "\n",
       "    .dataframe thead th {\n",
       "        text-align: right;\n",
       "    }\n",
       "</style>\n",
       "<table border=\"1\" class=\"dataframe\">\n",
       "  <thead>\n",
       "    <tr style=\"text-align: right;\">\n",
       "      <th></th>\n",
       "      <th>date</th>\n",
       "      <th>group</th>\n",
       "      <th>visits</th>\n",
       "    </tr>\n",
       "  </thead>\n",
       "  <tbody>\n",
       "    <tr>\n",
       "      <th>0</th>\n",
       "      <td>2019-08-01</td>\n",
       "      <td>A</td>\n",
       "      <td>719</td>\n",
       "    </tr>\n",
       "    <tr>\n",
       "      <th>1</th>\n",
       "      <td>2019-08-02</td>\n",
       "      <td>A</td>\n",
       "      <td>619</td>\n",
       "    </tr>\n",
       "    <tr>\n",
       "      <th>2</th>\n",
       "      <td>2019-08-03</td>\n",
       "      <td>A</td>\n",
       "      <td>507</td>\n",
       "    </tr>\n",
       "    <tr>\n",
       "      <th>3</th>\n",
       "      <td>2019-08-04</td>\n",
       "      <td>A</td>\n",
       "      <td>717</td>\n",
       "    </tr>\n",
       "    <tr>\n",
       "      <th>4</th>\n",
       "      <td>2019-08-05</td>\n",
       "      <td>A</td>\n",
       "      <td>756</td>\n",
       "    </tr>\n",
       "  </tbody>\n",
       "</table>\n",
       "</div>"
      ],
      "text/plain": [
       "         date group  visits\n",
       "0  2019-08-01     A     719\n",
       "1  2019-08-02     A     619\n",
       "2  2019-08-03     A     507\n",
       "3  2019-08-04     A     717\n",
       "4  2019-08-05     A     756"
      ]
     },
     "execution_count": 32,
     "metadata": {},
     "output_type": "execute_result"
    }
   ],
   "source": [
    "visits.head()"
   ]
  },
  {
   "cell_type": "code",
   "execution_count": 33,
   "metadata": {},
   "outputs": [],
   "source": [
    "visits['date'] =  pd.to_datetime(visits['date'], format=\"%Y-%m-%d\")"
   ]
  },
  {
   "cell_type": "markdown",
   "metadata": {},
   "source": [
    "#### Revisión de duplicados"
   ]
  },
  {
   "cell_type": "code",
   "execution_count": 34,
   "metadata": {},
   "outputs": [
    {
     "data": {
      "text/plain": [
       "0"
      ]
     },
     "execution_count": 34,
     "metadata": {},
     "output_type": "execute_result"
    }
   ],
   "source": [
    "orders.duplicated().sum()"
   ]
  },
  {
   "cell_type": "code",
   "execution_count": 35,
   "metadata": {},
   "outputs": [
    {
     "data": {
      "text/plain": [
       "0"
      ]
     },
     "execution_count": 35,
     "metadata": {},
     "output_type": "execute_result"
    }
   ],
   "source": [
    "visits.duplicated().sum()"
   ]
  },
  {
   "cell_type": "markdown",
   "metadata": {},
   "source": [
    "#### Revisa que no hayan visitantes que coincidan en ambos grupos"
   ]
  },
  {
   "cell_type": "code",
   "execution_count": 36,
   "metadata": {
    "scrolled": true
   },
   "outputs": [
    {
     "name": "stdout",
     "output_type": "stream",
     "text": [
      "<class 'pandas.core.frame.DataFrame'>\n",
      "Index: 181 entries, 2 to 1195\n",
      "Data columns (total 5 columns):\n",
      " #   Column         Non-Null Count  Dtype         \n",
      "---  ------         --------------  -----         \n",
      " 0   transactionId  181 non-null    int64         \n",
      " 1   visitorId      181 non-null    int64         \n",
      " 2   date           181 non-null    datetime64[ns]\n",
      " 3   revenue        181 non-null    float64       \n",
      " 4   group          181 non-null    object        \n",
      "dtypes: datetime64[ns](1), float64(1), int64(2), object(1)\n",
      "memory usage: 8.5+ KB\n"
     ]
    }
   ],
   "source": [
    "# Identificar visitantes que están en ambos grupos\n",
    "group_counts = orders.groupby('visitorId')['group'].nunique()\n",
    "visitor_ab = group_counts[group_counts > 1].index\n",
    "\n",
    "#Mostrar solo esos visitantes\n",
    "visitors_ab = orders[orders['visitorId'].isin(visitor_ab)]\n",
    "\n",
    "visitors_ab.info()\n"
   ]
  },
  {
   "cell_type": "code",
   "execution_count": 37,
   "metadata": {},
   "outputs": [],
   "source": [
    "#Procederemos a eliminarlos ya que puede deberse a un error en la aplicación de la prueba\n",
    "orders_ = orders[~orders['visitorId'].isin(visitors_ab)]\n"
   ]
  },
  {
   "cell_type": "markdown",
   "metadata": {},
   "source": [
    "### Aplicar el framework ICE para priorizar hipótesis. Ordenarlas en orden descendente de prioridad."
   ]
  },
  {
   "cell_type": "code",
   "execution_count": 38,
   "metadata": {},
   "outputs": [
    {
     "data": {
      "text/html": [
       "<div>\n",
       "<style scoped>\n",
       "    .dataframe tbody tr th:only-of-type {\n",
       "        vertical-align: middle;\n",
       "    }\n",
       "\n",
       "    .dataframe tbody tr th {\n",
       "        vertical-align: top;\n",
       "    }\n",
       "\n",
       "    .dataframe thead th {\n",
       "        text-align: right;\n",
       "    }\n",
       "</style>\n",
       "<table border=\"1\" class=\"dataframe\">\n",
       "  <thead>\n",
       "    <tr style=\"text-align: right;\">\n",
       "      <th></th>\n",
       "      <th>Hypothesis</th>\n",
       "      <th>Reach</th>\n",
       "      <th>Impact</th>\n",
       "      <th>Confidence</th>\n",
       "      <th>Effort</th>\n",
       "      <th>ICE</th>\n",
       "    </tr>\n",
       "  </thead>\n",
       "  <tbody>\n",
       "    <tr>\n",
       "      <th>8</th>\n",
       "      <td>Launch a promotion that gives users discounts ...</td>\n",
       "      <td>1</td>\n",
       "      <td>9</td>\n",
       "      <td>9</td>\n",
       "      <td>5</td>\n",
       "      <td>16.200000</td>\n",
       "    </tr>\n",
       "    <tr>\n",
       "      <th>0</th>\n",
       "      <td>Add two new channels for attracting traffic. T...</td>\n",
       "      <td>3</td>\n",
       "      <td>10</td>\n",
       "      <td>8</td>\n",
       "      <td>6</td>\n",
       "      <td>13.333333</td>\n",
       "    </tr>\n",
       "    <tr>\n",
       "      <th>7</th>\n",
       "      <td>Add a subscription form to all the main pages....</td>\n",
       "      <td>10</td>\n",
       "      <td>7</td>\n",
       "      <td>8</td>\n",
       "      <td>5</td>\n",
       "      <td>11.200000</td>\n",
       "    </tr>\n",
       "    <tr>\n",
       "      <th>6</th>\n",
       "      <td>Show banners with current offers and sales on ...</td>\n",
       "      <td>5</td>\n",
       "      <td>3</td>\n",
       "      <td>8</td>\n",
       "      <td>3</td>\n",
       "      <td>8.000000</td>\n",
       "    </tr>\n",
       "    <tr>\n",
       "      <th>2</th>\n",
       "      <td>Add product recommendation blocks to the store...</td>\n",
       "      <td>8</td>\n",
       "      <td>3</td>\n",
       "      <td>7</td>\n",
       "      <td>3</td>\n",
       "      <td>7.000000</td>\n",
       "    </tr>\n",
       "    <tr>\n",
       "      <th>1</th>\n",
       "      <td>Launch your own delivery service. This will sh...</td>\n",
       "      <td>2</td>\n",
       "      <td>5</td>\n",
       "      <td>4</td>\n",
       "      <td>10</td>\n",
       "      <td>2.000000</td>\n",
       "    </tr>\n",
       "    <tr>\n",
       "      <th>5</th>\n",
       "      <td>Add a customer review page. This will increase...</td>\n",
       "      <td>3</td>\n",
       "      <td>2</td>\n",
       "      <td>2</td>\n",
       "      <td>3</td>\n",
       "      <td>1.333333</td>\n",
       "    </tr>\n",
       "    <tr>\n",
       "      <th>3</th>\n",
       "      <td>Change the category structure. This will incre...</td>\n",
       "      <td>8</td>\n",
       "      <td>3</td>\n",
       "      <td>3</td>\n",
       "      <td>8</td>\n",
       "      <td>1.125000</td>\n",
       "    </tr>\n",
       "    <tr>\n",
       "      <th>4</th>\n",
       "      <td>Change the background color on the main page. ...</td>\n",
       "      <td>3</td>\n",
       "      <td>1</td>\n",
       "      <td>1</td>\n",
       "      <td>1</td>\n",
       "      <td>1.000000</td>\n",
       "    </tr>\n",
       "  </tbody>\n",
       "</table>\n",
       "</div>"
      ],
      "text/plain": [
       "                                          Hypothesis  Reach  Impact  \\\n",
       "8  Launch a promotion that gives users discounts ...      1       9   \n",
       "0  Add two new channels for attracting traffic. T...      3      10   \n",
       "7  Add a subscription form to all the main pages....     10       7   \n",
       "6  Show banners with current offers and sales on ...      5       3   \n",
       "2  Add product recommendation blocks to the store...      8       3   \n",
       "1  Launch your own delivery service. This will sh...      2       5   \n",
       "5  Add a customer review page. This will increase...      3       2   \n",
       "3  Change the category structure. This will incre...      8       3   \n",
       "4  Change the background color on the main page. ...      3       1   \n",
       "\n",
       "   Confidence  Effort        ICE  \n",
       "8           9       5  16.200000  \n",
       "0           8       6  13.333333  \n",
       "7           8       5  11.200000  \n",
       "6           8       3   8.000000  \n",
       "2           7       3   7.000000  \n",
       "1           4      10   2.000000  \n",
       "5           2       3   1.333333  \n",
       "3           3       8   1.125000  \n",
       "4           1       1   1.000000  "
      ]
     },
     "execution_count": 38,
     "metadata": {},
     "output_type": "execute_result"
    }
   ],
   "source": [
    "#Calculamos ice\n",
    "hipotesis['ICE'] = (hipotesis['Impact']*hipotesis['Confidence'])/hipotesis['Effort']\n",
    "\n",
    "#reordenamos\n",
    "hipotesis = hipotesis.sort_values(by='ICE', ascending=False)\n",
    "\n",
    "hipotesis"
   ]
  },
  {
   "cell_type": "markdown",
   "metadata": {},
   "source": [
    "### Aplicar el framework RICE para priorizar hipótesis. Ordenarlas en orden descendente de prioridad."
   ]
  },
  {
   "cell_type": "code",
   "execution_count": 39,
   "metadata": {},
   "outputs": [
    {
     "data": {
      "text/html": [
       "<div>\n",
       "<style scoped>\n",
       "    .dataframe tbody tr th:only-of-type {\n",
       "        vertical-align: middle;\n",
       "    }\n",
       "\n",
       "    .dataframe tbody tr th {\n",
       "        vertical-align: top;\n",
       "    }\n",
       "\n",
       "    .dataframe thead th {\n",
       "        text-align: right;\n",
       "    }\n",
       "</style>\n",
       "<table border=\"1\" class=\"dataframe\">\n",
       "  <thead>\n",
       "    <tr style=\"text-align: right;\">\n",
       "      <th></th>\n",
       "      <th>Hypothesis</th>\n",
       "      <th>Reach</th>\n",
       "      <th>Impact</th>\n",
       "      <th>Confidence</th>\n",
       "      <th>Effort</th>\n",
       "      <th>ICE</th>\n",
       "      <th>RICE</th>\n",
       "    </tr>\n",
       "  </thead>\n",
       "  <tbody>\n",
       "    <tr>\n",
       "      <th>7</th>\n",
       "      <td>Add a subscription form to all the main pages....</td>\n",
       "      <td>10</td>\n",
       "      <td>7</td>\n",
       "      <td>8</td>\n",
       "      <td>5</td>\n",
       "      <td>11.200000</td>\n",
       "      <td>112.0</td>\n",
       "    </tr>\n",
       "    <tr>\n",
       "      <th>2</th>\n",
       "      <td>Add product recommendation blocks to the store...</td>\n",
       "      <td>8</td>\n",
       "      <td>3</td>\n",
       "      <td>7</td>\n",
       "      <td>3</td>\n",
       "      <td>7.000000</td>\n",
       "      <td>56.0</td>\n",
       "    </tr>\n",
       "    <tr>\n",
       "      <th>0</th>\n",
       "      <td>Add two new channels for attracting traffic. T...</td>\n",
       "      <td>3</td>\n",
       "      <td>10</td>\n",
       "      <td>8</td>\n",
       "      <td>6</td>\n",
       "      <td>13.333333</td>\n",
       "      <td>40.0</td>\n",
       "    </tr>\n",
       "    <tr>\n",
       "      <th>6</th>\n",
       "      <td>Show banners with current offers and sales on ...</td>\n",
       "      <td>5</td>\n",
       "      <td>3</td>\n",
       "      <td>8</td>\n",
       "      <td>3</td>\n",
       "      <td>8.000000</td>\n",
       "      <td>40.0</td>\n",
       "    </tr>\n",
       "    <tr>\n",
       "      <th>8</th>\n",
       "      <td>Launch a promotion that gives users discounts ...</td>\n",
       "      <td>1</td>\n",
       "      <td>9</td>\n",
       "      <td>9</td>\n",
       "      <td>5</td>\n",
       "      <td>16.200000</td>\n",
       "      <td>16.2</td>\n",
       "    </tr>\n",
       "    <tr>\n",
       "      <th>3</th>\n",
       "      <td>Change the category structure. This will incre...</td>\n",
       "      <td>8</td>\n",
       "      <td>3</td>\n",
       "      <td>3</td>\n",
       "      <td>8</td>\n",
       "      <td>1.125000</td>\n",
       "      <td>9.0</td>\n",
       "    </tr>\n",
       "    <tr>\n",
       "      <th>1</th>\n",
       "      <td>Launch your own delivery service. This will sh...</td>\n",
       "      <td>2</td>\n",
       "      <td>5</td>\n",
       "      <td>4</td>\n",
       "      <td>10</td>\n",
       "      <td>2.000000</td>\n",
       "      <td>4.0</td>\n",
       "    </tr>\n",
       "    <tr>\n",
       "      <th>5</th>\n",
       "      <td>Add a customer review page. This will increase...</td>\n",
       "      <td>3</td>\n",
       "      <td>2</td>\n",
       "      <td>2</td>\n",
       "      <td>3</td>\n",
       "      <td>1.333333</td>\n",
       "      <td>4.0</td>\n",
       "    </tr>\n",
       "    <tr>\n",
       "      <th>4</th>\n",
       "      <td>Change the background color on the main page. ...</td>\n",
       "      <td>3</td>\n",
       "      <td>1</td>\n",
       "      <td>1</td>\n",
       "      <td>1</td>\n",
       "      <td>1.000000</td>\n",
       "      <td>3.0</td>\n",
       "    </tr>\n",
       "  </tbody>\n",
       "</table>\n",
       "</div>"
      ],
      "text/plain": [
       "                                          Hypothesis  Reach  Impact  \\\n",
       "7  Add a subscription form to all the main pages....     10       7   \n",
       "2  Add product recommendation blocks to the store...      8       3   \n",
       "0  Add two new channels for attracting traffic. T...      3      10   \n",
       "6  Show banners with current offers and sales on ...      5       3   \n",
       "8  Launch a promotion that gives users discounts ...      1       9   \n",
       "3  Change the category structure. This will incre...      8       3   \n",
       "1  Launch your own delivery service. This will sh...      2       5   \n",
       "5  Add a customer review page. This will increase...      3       2   \n",
       "4  Change the background color on the main page. ...      3       1   \n",
       "\n",
       "   Confidence  Effort        ICE   RICE  \n",
       "7           8       5  11.200000  112.0  \n",
       "2           7       3   7.000000   56.0  \n",
       "0           8       6  13.333333   40.0  \n",
       "6           8       3   8.000000   40.0  \n",
       "8           9       5  16.200000   16.2  \n",
       "3           3       8   1.125000    9.0  \n",
       "1           4      10   2.000000    4.0  \n",
       "5           2       3   1.333333    4.0  \n",
       "4           1       1   1.000000    3.0  "
      ]
     },
     "execution_count": 39,
     "metadata": {},
     "output_type": "execute_result"
    }
   ],
   "source": [
    "#Calculamos rice multiplicando ice por reach\n",
    "hipotesis['RICE'] = hipotesis['ICE']*hipotesis['Reach']\n",
    "\n",
    "#reordenamos\n",
    "hipotesis = hipotesis.sort_values(by='RICE', ascending=False)\n",
    "\n",
    "hipotesis"
   ]
  },
  {
   "cell_type": "markdown",
   "metadata": {},
   "source": [
    "### Mostrar cómo cambia la priorización de hipótesis cuando utilizas RICE en lugar de ICE. Proporcionar una explicación de los cambios."
   ]
  },
  {
   "cell_type": "code",
   "execution_count": 40,
   "metadata": {},
   "outputs": [
    {
     "data": {
      "text/plain": [
       "Text(0.5, 1.0, 'Variación entre ICE y RICE')"
      ]
     },
     "execution_count": 40,
     "metadata": {},
     "output_type": "execute_result"
    },
    {
     "data": {
      "image/png": "[encoded data removed]",
      "text/plain": [
       "<Figure size 640x480 with 1 Axes>"
      ]
     },
     "metadata": {},
     "output_type": "display_data"
    }
   ],
   "source": [
    "#Creamos un gráfico de dispersión para ver la variación de la importancia según ambos parametros\n",
    "plt.scatter(hipotesis[\"ICE\"], hipotesis[\"RICE\"])\n",
    "plt.xlabel(\"ICE\")\n",
    "plt.ylabel(\"RICE\")\n",
    "plt.title(\"Variación entre ICE y RICE\")"
   ]
  },
  {
   "cell_type": "markdown",
   "metadata": {},
   "source": [
    "Nos encontramos con hipótesis que mantienen su importancia en ambos criterios, es decir que se mantienen en una linea de 45 grados en la gráfica, lo que significa que su posición de importancia no se altera. Por otro lado hay hipótesis que tienen un valor alto en ICE como la que se encuentra después del valor 16 (mucha importancia) y que de acuerdo con RICE no se considera importante ya que su valor es de aproximadamente 20 (poca importancia), así como también hay hipótesis que alzan su valor de importancia al incluir el Reach como es el caso de la que se encuentra cerca de 12 en ICE pero en RICE su valor sube significativamente arriba de 100. Entre mayor sea el valor de Reach, mayor será el impacto que tendrá sobre ICE. Al considerar una linea imaginaria de 45 grados que atraviesa la gráfica, los valores que se encuentren por debajo de la linea representan las hipótesis que perdieron importancia al considerar el alcance, y aquellos que están sobre la linea son los que ganaron alcance."
   ]
  },
  {
   "cell_type": "markdown",
   "metadata": {},
   "source": [
    "## Análisis del test A/B"
   ]
  },
  {
   "cell_type": "markdown",
   "metadata": {},
   "source": [
    "### Representa gráficamente el ingreso acumulado por grupo. Haz conclusiones y conjeturas."
   ]
  },
  {
   "cell_type": "code",
   "execution_count": 41,
   "metadata": {
    "scrolled": true
   },
   "outputs": [
    {
     "data": {
      "text/html": [
       "<div>\n",
       "<style scoped>\n",
       "    .dataframe tbody tr th:only-of-type {\n",
       "        vertical-align: middle;\n",
       "    }\n",
       "\n",
       "    .dataframe tbody tr th {\n",
       "        vertical-align: top;\n",
       "    }\n",
       "\n",
       "    .dataframe thead th {\n",
       "        text-align: right;\n",
       "    }\n",
       "</style>\n",
       "<table border=\"1\" class=\"dataframe\">\n",
       "  <thead>\n",
       "    <tr style=\"text-align: right;\">\n",
       "      <th></th>\n",
       "      <th>date</th>\n",
       "      <th>group</th>\n",
       "      <th>revenue</th>\n",
       "      <th>cumulative_revenue</th>\n",
       "    </tr>\n",
       "  </thead>\n",
       "  <tbody>\n",
       "    <tr>\n",
       "      <th>0</th>\n",
       "      <td>2019-08-01</td>\n",
       "      <td>A</td>\n",
       "      <td>2356.8</td>\n",
       "      <td>2356.8</td>\n",
       "    </tr>\n",
       "    <tr>\n",
       "      <th>1</th>\n",
       "      <td>2019-08-01</td>\n",
       "      <td>B</td>\n",
       "      <td>1620.0</td>\n",
       "      <td>1620.0</td>\n",
       "    </tr>\n",
       "    <tr>\n",
       "      <th>2</th>\n",
       "      <td>2019-08-02</td>\n",
       "      <td>A</td>\n",
       "      <td>1503.5</td>\n",
       "      <td>3860.3</td>\n",
       "    </tr>\n",
       "    <tr>\n",
       "      <th>3</th>\n",
       "      <td>2019-08-02</td>\n",
       "      <td>B</td>\n",
       "      <td>2623.8</td>\n",
       "      <td>4243.8</td>\n",
       "    </tr>\n",
       "    <tr>\n",
       "      <th>4</th>\n",
       "      <td>2019-08-03</td>\n",
       "      <td>A</td>\n",
       "      <td>1815.2</td>\n",
       "      <td>5675.5</td>\n",
       "    </tr>\n",
       "  </tbody>\n",
       "</table>\n",
       "</div>"
      ],
      "text/plain": [
       "        date group  revenue  cumulative_revenue\n",
       "0 2019-08-01     A   2356.8              2356.8\n",
       "1 2019-08-01     B   1620.0              1620.0\n",
       "2 2019-08-02     A   1503.5              3860.3\n",
       "3 2019-08-02     B   2623.8              4243.8\n",
       "4 2019-08-03     A   1815.2              5675.5"
      ]
     },
     "execution_count": 41,
     "metadata": {},
     "output_type": "execute_result"
    }
   ],
   "source": [
    "#Calculamos las ordenes diarias acumuladas, agrupando por fecha y grupo\n",
    "daily_orders = orders_.groupby(['date', 'group'])['revenue'].sum().reset_index()\n",
    "#Agregamos una columna con el ingreso acumulado\n",
    "daily_orders['cumulative_revenue'] = daily_orders.sort_values(by='date').groupby('group')['revenue'].cumsum()\n",
    "daily_orders.head()"
   ]
  },
  {
   "cell_type": "code",
   "execution_count": 42,
   "metadata": {},
   "outputs": [
    {
     "data": {
      "image/png": "[encoded data removed]",
      "text/plain": [
       "<Figure size 640x480 with 1 Axes>"
      ]
     },
     "metadata": {},
     "output_type": "display_data"
    }
   ],
   "source": [
    "#Creamos una pivot table para graficar la suma acumulada de ambos grupos\n",
    "daily_orders.pivot_table(\n",
    "    index='date',\n",
    "    columns='group',\n",
    "    values='cumulative_revenue',\n",
    "    aggfunc='mean'\n",
    ").plot(kind='line')\n",
    "plt.gca().tick_params(axis='x', rotation=45)\n",
    "plt.show()"
   ]
  },
  {
   "cell_type": "markdown",
   "metadata": {},
   "source": [
    "Observamos que ambos grupos inician a la par sin variaciones considerables, sin embargo, a partir de cierto punto (en el cual se inicia la prueba), hay un incremento notable en los ingresos del grupo B. De modo que hay ingresos mayores en el grupo B que en el grupo A después de aplicar la prueba."
   ]
  },
  {
   "cell_type": "markdown",
   "metadata": {},
   "source": [
    "### Representa gráficamente el tamaño de pedido promedio acumulado por grupo. Haz conclusiones y conjeturas."
   ]
  },
  {
   "cell_type": "code",
   "execution_count": 43,
   "metadata": {},
   "outputs": [
    {
     "data": {
      "text/html": [
       "<div>\n",
       "<style scoped>\n",
       "    .dataframe tbody tr th:only-of-type {\n",
       "        vertical-align: middle;\n",
       "    }\n",
       "\n",
       "    .dataframe tbody tr th {\n",
       "        vertical-align: top;\n",
       "    }\n",
       "\n",
       "    .dataframe thead th {\n",
       "        text-align: right;\n",
       "    }\n",
       "</style>\n",
       "<table border=\"1\" class=\"dataframe\">\n",
       "  <thead>\n",
       "    <tr style=\"text-align: right;\">\n",
       "      <th></th>\n",
       "      <th>date</th>\n",
       "      <th>group</th>\n",
       "      <th>n_buyers</th>\n",
       "      <th>revenue</th>\n",
       "      <th>cumulative_buyers</th>\n",
       "      <th>cumulative_revenue</th>\n",
       "      <th>avg_revenue</th>\n",
       "    </tr>\n",
       "  </thead>\n",
       "  <tbody>\n",
       "    <tr>\n",
       "      <th>0</th>\n",
       "      <td>2019-08-01</td>\n",
       "      <td>A</td>\n",
       "      <td>20</td>\n",
       "      <td>2356.8</td>\n",
       "      <td>20</td>\n",
       "      <td>2356.8</td>\n",
       "      <td>117.840000</td>\n",
       "    </tr>\n",
       "    <tr>\n",
       "      <th>1</th>\n",
       "      <td>2019-08-01</td>\n",
       "      <td>B</td>\n",
       "      <td>20</td>\n",
       "      <td>1620.0</td>\n",
       "      <td>20</td>\n",
       "      <td>1620.0</td>\n",
       "      <td>81.000000</td>\n",
       "    </tr>\n",
       "    <tr>\n",
       "      <th>2</th>\n",
       "      <td>2019-08-02</td>\n",
       "      <td>A</td>\n",
       "      <td>19</td>\n",
       "      <td>1503.5</td>\n",
       "      <td>39</td>\n",
       "      <td>3860.3</td>\n",
       "      <td>98.982051</td>\n",
       "    </tr>\n",
       "    <tr>\n",
       "      <th>3</th>\n",
       "      <td>2019-08-02</td>\n",
       "      <td>B</td>\n",
       "      <td>23</td>\n",
       "      <td>2623.8</td>\n",
       "      <td>43</td>\n",
       "      <td>4243.8</td>\n",
       "      <td>98.693023</td>\n",
       "    </tr>\n",
       "    <tr>\n",
       "      <th>4</th>\n",
       "      <td>2019-08-03</td>\n",
       "      <td>A</td>\n",
       "      <td>24</td>\n",
       "      <td>1815.2</td>\n",
       "      <td>63</td>\n",
       "      <td>5675.5</td>\n",
       "      <td>90.087302</td>\n",
       "    </tr>\n",
       "  </tbody>\n",
       "</table>\n",
       "</div>"
      ],
      "text/plain": [
       "        date group  n_buyers  revenue  cumulative_buyers  cumulative_revenue  \\\n",
       "0 2019-08-01     A        20   2356.8                 20              2356.8   \n",
       "1 2019-08-01     B        20   1620.0                 20              1620.0   \n",
       "2 2019-08-02     A        19   1503.5                 39              3860.3   \n",
       "3 2019-08-02     B        23   2623.8                 43              4243.8   \n",
       "4 2019-08-03     A        24   1815.2                 63              5675.5   \n",
       "\n",
       "   avg_revenue  \n",
       "0   117.840000  \n",
       "1    81.000000  \n",
       "2    98.982051  \n",
       "3    98.693023  \n",
       "4    90.087302  "
      ]
     },
     "execution_count": 43,
     "metadata": {},
     "output_type": "execute_result"
    }
   ],
   "source": [
    "#Calculamos el promedio acumulado, agrupamos por fecha y grupo\n",
    "daily_avgs = (\n",
    "    orders_\n",
    "    .groupby(['date', 'group'])\n",
    "    .agg({\n",
    "        'visitorId': 'nunique', #contamos el numero de id de visitantes\n",
    "        'revenue': 'sum'\n",
    "    })\n",
    "    .reset_index()\n",
    "    .rename(columns={\n",
    "        'visitorId': 'n_buyers' #renonobramos para saber el numero de compradores\n",
    "    })\n",
    ")\n",
    "#agregamos una columna con el acumulado por día\n",
    "daily_avgs['cumulative_buyers'] = daily_avgs.sort_values(by='date').groupby('group')['n_buyers'].cumsum()\n",
    "daily_avgs['cumulative_revenue'] = daily_avgs.sort_values(by='date').groupby('group')['revenue'].cumsum()\n",
    "#Creamos una columna con el promedio acumulado\n",
    "daily_avgs['avg_revenue'] = daily_avgs['cumulative_revenue'] / daily_avgs['cumulative_buyers']\n",
    "daily_avgs.head()"
   ]
  },
  {
   "cell_type": "code",
   "execution_count": 44,
   "metadata": {},
   "outputs": [
    {
     "data": {
      "text/plain": [
       "<Axes: xlabel='date'>"
      ]
     },
     "execution_count": 44,
     "metadata": {},
     "output_type": "execute_result"
    },
    {
     "data": {
      "image/png": "[encoded data removed]",
      "text/plain": [
       "<Figure size 640x480 with 1 Axes>"
      ]
     },
     "metadata": {},
     "output_type": "display_data"
    }
   ],
   "source": [
    "#Creamos una pivot table para graficar\n",
    "daily_avgs_by_group = (\n",
    "    daily_avgs\n",
    "    .pivot_table(\n",
    "        index='date',\n",
    "        columns='group',\n",
    "        values='avg_revenue'\n",
    "    )\n",
    ")\n",
    "\n",
    "daily_avgs_by_group.plot(kind='line')"
   ]
  },
  {
   "cell_type": "markdown",
   "metadata": {},
   "source": [
    "Podemos observar mucha fluctuación en los tamaños de pedidos en ambos grupos, sin embargo se llega a una estabilidad a partir del día 13 de agosto en el grupo A y el 19 de agosto en el grupo B. Por lo que podemos considerar que la estabilidad de pedidos en ambos grupos se presenta el 19 de agosto. El tamaño promedio de pedidos es mayor en el grupo B."
   ]
  },
  {
   "cell_type": "markdown",
   "metadata": {},
   "source": [
    "### Representa gráficamente la diferencia relativa en el tamaño de pedido promedio acumulado para el grupo B en comparación con el grupo A. Haz conclusiones y conjeturas."
   ]
  },
  {
   "cell_type": "code",
   "execution_count": 45,
   "metadata": {},
   "outputs": [
    {
     "data": {
      "text/html": [
       "<div>\n",
       "<style scoped>\n",
       "    .dataframe tbody tr th:only-of-type {\n",
       "        vertical-align: middle;\n",
       "    }\n",
       "\n",
       "    .dataframe tbody tr th {\n",
       "        vertical-align: top;\n",
       "    }\n",
       "\n",
       "    .dataframe thead th {\n",
       "        text-align: right;\n",
       "    }\n",
       "</style>\n",
       "<table border=\"1\" class=\"dataframe\">\n",
       "  <thead>\n",
       "    <tr style=\"text-align: right;\">\n",
       "      <th>group</th>\n",
       "      <th>A</th>\n",
       "      <th>B</th>\n",
       "    </tr>\n",
       "    <tr>\n",
       "      <th>date</th>\n",
       "      <th></th>\n",
       "      <th></th>\n",
       "    </tr>\n",
       "  </thead>\n",
       "  <tbody>\n",
       "    <tr>\n",
       "      <th>2019-08-01</th>\n",
       "      <td>117.840000</td>\n",
       "      <td>81.000000</td>\n",
       "    </tr>\n",
       "    <tr>\n",
       "      <th>2019-08-02</th>\n",
       "      <td>98.982051</td>\n",
       "      <td>98.693023</td>\n",
       "    </tr>\n",
       "    <tr>\n",
       "      <th>2019-08-03</th>\n",
       "      <td>90.087302</td>\n",
       "      <td>102.552542</td>\n",
       "    </tr>\n",
       "    <tr>\n",
       "      <th>2019-08-04</th>\n",
       "      <td>87.462821</td>\n",
       "      <td>103.572000</td>\n",
       "    </tr>\n",
       "    <tr>\n",
       "      <th>2019-08-05</th>\n",
       "      <td>85.535922</td>\n",
       "      <td>94.519388</td>\n",
       "    </tr>\n",
       "  </tbody>\n",
       "</table>\n",
       "</div>"
      ],
      "text/plain": [
       "group                A           B\n",
       "date                              \n",
       "2019-08-01  117.840000   81.000000\n",
       "2019-08-02   98.982051   98.693023\n",
       "2019-08-03   90.087302  102.552542\n",
       "2019-08-04   87.462821  103.572000\n",
       "2019-08-05   85.535922   94.519388"
      ]
     },
     "execution_count": 45,
     "metadata": {},
     "output_type": "execute_result"
    }
   ],
   "source": [
    "daily_avgs_by_group.head()\n"
   ]
  },
  {
   "cell_type": "code",
   "execution_count": 46,
   "metadata": {},
   "outputs": [
    {
     "data": {
      "text/html": [
       "<div>\n",
       "<style scoped>\n",
       "    .dataframe tbody tr th:only-of-type {\n",
       "        vertical-align: middle;\n",
       "    }\n",
       "\n",
       "    .dataframe tbody tr th {\n",
       "        vertical-align: top;\n",
       "    }\n",
       "\n",
       "    .dataframe thead th {\n",
       "        text-align: right;\n",
       "    }\n",
       "</style>\n",
       "<table border=\"1\" class=\"dataframe\">\n",
       "  <thead>\n",
       "    <tr style=\"text-align: right;\">\n",
       "      <th>group</th>\n",
       "      <th>A</th>\n",
       "      <th>B</th>\n",
       "      <th>relative_change</th>\n",
       "    </tr>\n",
       "    <tr>\n",
       "      <th>date</th>\n",
       "      <th></th>\n",
       "      <th></th>\n",
       "      <th></th>\n",
       "    </tr>\n",
       "  </thead>\n",
       "  <tbody>\n",
       "    <tr>\n",
       "      <th>2019-08-01</th>\n",
       "      <td>117.840000</td>\n",
       "      <td>81.000000</td>\n",
       "      <td>-0.312627</td>\n",
       "    </tr>\n",
       "    <tr>\n",
       "      <th>2019-08-02</th>\n",
       "      <td>98.982051</td>\n",
       "      <td>98.693023</td>\n",
       "      <td>-0.002920</td>\n",
       "    </tr>\n",
       "    <tr>\n",
       "      <th>2019-08-03</th>\n",
       "      <td>90.087302</td>\n",
       "      <td>102.552542</td>\n",
       "      <td>0.138368</td>\n",
       "    </tr>\n",
       "    <tr>\n",
       "      <th>2019-08-04</th>\n",
       "      <td>87.462821</td>\n",
       "      <td>103.572000</td>\n",
       "      <td>0.184183</td>\n",
       "    </tr>\n",
       "    <tr>\n",
       "      <th>2019-08-05</th>\n",
       "      <td>85.535922</td>\n",
       "      <td>94.519388</td>\n",
       "      <td>0.105026</td>\n",
       "    </tr>\n",
       "  </tbody>\n",
       "</table>\n",
       "</div>"
      ],
      "text/plain": [
       "group                A           B  relative_change\n",
       "date                                               \n",
       "2019-08-01  117.840000   81.000000        -0.312627\n",
       "2019-08-02   98.982051   98.693023        -0.002920\n",
       "2019-08-03   90.087302  102.552542         0.138368\n",
       "2019-08-04   87.462821  103.572000         0.184183\n",
       "2019-08-05   85.535922   94.519388         0.105026"
      ]
     },
     "execution_count": 46,
     "metadata": {},
     "output_type": "execute_result"
    }
   ],
   "source": [
    "#Aplicaremos la formula del cambio relativo simplificada: B/A - 1\n",
    "daily_avgs_by_group['relative_change'] = daily_avgs_by_group['B'] / daily_avgs_by_group['A'] - 1\n",
    "daily_avgs_by_group.head()"
   ]
  },
  {
   "cell_type": "code",
   "execution_count": 47,
   "metadata": {},
   "outputs": [
    {
     "data": {
      "text/plain": [
       "<Axes: xlabel='date'>"
      ]
     },
     "execution_count": 47,
     "metadata": {},
     "output_type": "execute_result"
    },
    {
     "data": {
      "image/png": "[encoded data removed]",
      "text/plain": [
       "<Figure size 640x480 with 1 Axes>"
      ]
     },
     "metadata": {},
     "output_type": "display_data"
    }
   ],
   "source": [
    "#Graficamos la diferencia relativa\n",
    "daily_relative_changes = (\n",
    "    daily_avgs_by_group\n",
    "    .pivot_table(\n",
    "        index='date',\n",
    "        values='relative_change'\n",
    "    )\n",
    ")\n",
    "\n",
    "daily_relative_changes.plot(kind='line')"
   ]
  },
  {
   "cell_type": "markdown",
   "metadata": {},
   "source": [
    "Observamos que si hay cambios significativos en el promedio acumulado de ambos grupos, la doferencia relativa explica como cambió un grupo respecto al otro y el comportamiento de este se encuentra acorde a los promedios de ambos grupos, donde se destaca el pico del 19 de agosto."
   ]
  },
  {
   "cell_type": "markdown",
   "metadata": {},
   "source": [
    "### Calcula la tasa de conversión de cada grupo como la relación entre los pedidos y el número de visitas de cada día. Representa gráficamente las tasas de conversión diarias de los dos grupos y describe la diferencia. Saca conclusiones y haz conjeturas.\n"
   ]
  },
  {
   "cell_type": "code",
   "execution_count": 48,
   "metadata": {},
   "outputs": [
    {
     "data": {
      "text/html": [
       "<div>\n",
       "<style scoped>\n",
       "    .dataframe tbody tr th:only-of-type {\n",
       "        vertical-align: middle;\n",
       "    }\n",
       "\n",
       "    .dataframe tbody tr th {\n",
       "        vertical-align: top;\n",
       "    }\n",
       "\n",
       "    .dataframe thead th {\n",
       "        text-align: right;\n",
       "    }\n",
       "</style>\n",
       "<table border=\"1\" class=\"dataframe\">\n",
       "  <thead>\n",
       "    <tr style=\"text-align: right;\">\n",
       "      <th></th>\n",
       "      <th>date</th>\n",
       "      <th>group</th>\n",
       "      <th>n_buyers</th>\n",
       "      <th>visits</th>\n",
       "    </tr>\n",
       "  </thead>\n",
       "  <tbody>\n",
       "    <tr>\n",
       "      <th>0</th>\n",
       "      <td>2019-08-01</td>\n",
       "      <td>A</td>\n",
       "      <td>20</td>\n",
       "      <td>719</td>\n",
       "    </tr>\n",
       "    <tr>\n",
       "      <th>1</th>\n",
       "      <td>2019-08-01</td>\n",
       "      <td>B</td>\n",
       "      <td>20</td>\n",
       "      <td>713</td>\n",
       "    </tr>\n",
       "    <tr>\n",
       "      <th>2</th>\n",
       "      <td>2019-08-02</td>\n",
       "      <td>A</td>\n",
       "      <td>19</td>\n",
       "      <td>619</td>\n",
       "    </tr>\n",
       "    <tr>\n",
       "      <th>3</th>\n",
       "      <td>2019-08-02</td>\n",
       "      <td>B</td>\n",
       "      <td>23</td>\n",
       "      <td>581</td>\n",
       "    </tr>\n",
       "    <tr>\n",
       "      <th>4</th>\n",
       "      <td>2019-08-03</td>\n",
       "      <td>A</td>\n",
       "      <td>24</td>\n",
       "      <td>507</td>\n",
       "    </tr>\n",
       "  </tbody>\n",
       "</table>\n",
       "</div>"
      ],
      "text/plain": [
       "        date group  n_buyers  visits\n",
       "0 2019-08-01     A        20     719\n",
       "1 2019-08-01     B        20     713\n",
       "2 2019-08-02     A        19     619\n",
       "3 2019-08-02     B        23     581\n",
       "4 2019-08-03     A        24     507"
      ]
     },
     "execution_count": 48,
     "metadata": {},
     "output_type": "execute_result"
    }
   ],
   "source": [
    "#Encontrramos el numero de compradores\n",
    "daily_buyers = (\n",
    "    orders_\n",
    "    .groupby(['date', 'group'])['visitorId']\n",
    "    .nunique()\n",
    "    .reset_index()\n",
    "    .rename(columns={'visitorId': 'n_buyers'})\n",
    ")\n",
    "\n",
    "#visitas  y daily buyers acumuladas agrupa y por fecha\n",
    "conver = pd.merge(daily_buyers, visits, on=['date', 'group'], how='left')\n",
    "conver.head()"
   ]
  },
  {
   "cell_type": "code",
   "execution_count": 49,
   "metadata": {
    "scrolled": true
   },
   "outputs": [
    {
     "data": {
      "text/html": [
       "<div>\n",
       "<style scoped>\n",
       "    .dataframe tbody tr th:only-of-type {\n",
       "        vertical-align: middle;\n",
       "    }\n",
       "\n",
       "    .dataframe tbody tr th {\n",
       "        vertical-align: top;\n",
       "    }\n",
       "\n",
       "    .dataframe thead th {\n",
       "        text-align: right;\n",
       "    }\n",
       "</style>\n",
       "<table border=\"1\" class=\"dataframe\">\n",
       "  <thead>\n",
       "    <tr style=\"text-align: right;\">\n",
       "      <th></th>\n",
       "      <th>date</th>\n",
       "      <th>group</th>\n",
       "      <th>n_buyers</th>\n",
       "      <th>visits</th>\n",
       "      <th>cumulative_visitors</th>\n",
       "      <th>cumulative_buyers</th>\n",
       "      <th>cumlative_conversion</th>\n",
       "    </tr>\n",
       "  </thead>\n",
       "  <tbody>\n",
       "    <tr>\n",
       "      <th>0</th>\n",
       "      <td>2019-08-01</td>\n",
       "      <td>A</td>\n",
       "      <td>20</td>\n",
       "      <td>719</td>\n",
       "      <td>719</td>\n",
       "      <td>20</td>\n",
       "      <td>0.027816</td>\n",
       "    </tr>\n",
       "    <tr>\n",
       "      <th>1</th>\n",
       "      <td>2019-08-01</td>\n",
       "      <td>B</td>\n",
       "      <td>20</td>\n",
       "      <td>713</td>\n",
       "      <td>713</td>\n",
       "      <td>20</td>\n",
       "      <td>0.028050</td>\n",
       "    </tr>\n",
       "    <tr>\n",
       "      <th>2</th>\n",
       "      <td>2019-08-02</td>\n",
       "      <td>A</td>\n",
       "      <td>19</td>\n",
       "      <td>619</td>\n",
       "      <td>1338</td>\n",
       "      <td>39</td>\n",
       "      <td>0.029148</td>\n",
       "    </tr>\n",
       "    <tr>\n",
       "      <th>3</th>\n",
       "      <td>2019-08-02</td>\n",
       "      <td>B</td>\n",
       "      <td>23</td>\n",
       "      <td>581</td>\n",
       "      <td>1294</td>\n",
       "      <td>43</td>\n",
       "      <td>0.033230</td>\n",
       "    </tr>\n",
       "    <tr>\n",
       "      <th>4</th>\n",
       "      <td>2019-08-03</td>\n",
       "      <td>A</td>\n",
       "      <td>24</td>\n",
       "      <td>507</td>\n",
       "      <td>1845</td>\n",
       "      <td>63</td>\n",
       "      <td>0.034146</td>\n",
       "    </tr>\n",
       "  </tbody>\n",
       "</table>\n",
       "</div>"
      ],
      "text/plain": [
       "        date group  n_buyers  visits  cumulative_visitors  cumulative_buyers  \\\n",
       "0 2019-08-01     A        20     719                  719                 20   \n",
       "1 2019-08-01     B        20     713                  713                 20   \n",
       "2 2019-08-02     A        19     619                 1338                 39   \n",
       "3 2019-08-02     B        23     581                 1294                 43   \n",
       "4 2019-08-03     A        24     507                 1845                 63   \n",
       "\n",
       "   cumlative_conversion  \n",
       "0              0.027816  \n",
       "1              0.028050  \n",
       "2              0.029148  \n",
       "3              0.033230  \n",
       "4              0.034146  "
      ]
     },
     "execution_count": 49,
     "metadata": {},
     "output_type": "execute_result"
    }
   ],
   "source": [
    "#Agregamos las columnas con valores acumulados \n",
    "conver['cumulative_visitors'] = conver.sort_values(by='date').groupby('group')['visits'].cumsum()\n",
    "conver['cumulative_buyers'] = conver.sort_values(by='date').groupby('group')['n_buyers'].cumsum()\n",
    "#Calculamos la conversión\n",
    "conver['cumlative_conversion'] = conver['cumulative_buyers'] / conver['cumulative_visitors']\n",
    "\n",
    "conver.head()"
   ]
  },
  {
   "cell_type": "code",
   "execution_count": 50,
   "metadata": {
    "scrolled": true
   },
   "outputs": [
    {
     "data": {
      "text/plain": [
       "<Axes: xlabel='date'>"
      ]
     },
     "execution_count": 50,
     "metadata": {},
     "output_type": "execute_result"
    },
    {
     "data": {
      "image/png": "[encoded data removed]",
      "text/plain": [
       "<Figure size 640x480 with 1 Axes>"
      ]
     },
     "metadata": {},
     "output_type": "display_data"
    }
   ],
   "source": [
    "#Graficamos ek indice de conversión\n",
    "convert_pivot = (\n",
    "    conver\n",
    "    .pivot_table(\n",
    "        index='date',\n",
    "        columns='group',\n",
    "        values='cumlative_conversion'\n",
    "    )\n",
    ")\n",
    "\n",
    "convert_pivot.plot(kind='line')"
   ]
  },
  {
   "cell_type": "markdown",
   "metadata": {},
   "source": [
    "Observamos que hay una diferencia significativa en el grupo B, el cual cuenta con mayores conversiones acumuladas."
   ]
  },
  {
   "cell_type": "markdown",
   "metadata": {},
   "source": [
    "### Traza un gráfico de dispersión del número de pedidos por usuario. Haz conclusiones y conjeturas."
   ]
  },
  {
   "cell_type": "code",
   "execution_count": 51,
   "metadata": {},
   "outputs": [
    {
     "data": {
      "text/plain": [
       "<matplotlib.collections.PathCollection at 0x2317d6d6690>"
      ]
     },
     "execution_count": 51,
     "metadata": {},
     "output_type": "execute_result"
    },
    {
     "data": {
      "image/png": "[encoded data removed]",
      "text/plain": [
       "<Figure size 640x480 with 1 Axes>"
      ]
     },
     "metadata": {},
     "output_type": "display_data"
    }
   ],
   "source": [
    "#Creamos una tabla con las ordenes por usuarios agrupando el grupo, revenue y fecha\n",
    "ordersByUsers = (\n",
    "    orders_.drop(['group', 'revenue', 'date'], axis=1)\n",
    "    .groupby('visitorId', as_index=False)\n",
    "    .agg({'transactionId': pd.Series.nunique})\n",
    ")\n",
    "x_values = pd.Series(range(0,len(ordersByUsers)))\n",
    "#Graficamos\n",
    "plt.scatter(x_values, ordersByUsers['transactionId'])"
   ]
  },
  {
   "cell_type": "markdown",
   "metadata": {},
   "source": [
    "Nos encontramos con que la mayoría de los usuarios hacen solamente un pedido, son pocos los que realizan dos y raramente 3."
   ]
  },
  {
   "cell_type": "markdown",
   "metadata": {},
   "source": [
    "### Calcula los percentiles 95 y 99 para el número de pedidos por usuario. Define el punto en el cual un punto de datos se convierte en una anomalía."
   ]
  },
  {
   "cell_type": "code",
   "execution_count": 52,
   "metadata": {},
   "outputs": [
    {
     "data": {
      "text/plain": [
       "8"
      ]
     },
     "execution_count": 52,
     "metadata": {},
     "output_type": "execute_result"
    }
   ],
   "source": [
    "percen = orders_.groupby('visitorId')['transactionId'].count().reset_index()\n",
    "percen['transactionId'].nunique()"
   ]
  },
  {
   "cell_type": "code",
   "execution_count": 53,
   "metadata": {},
   "outputs": [
    {
     "name": "stdout",
     "output_type": "stream",
     "text": [
      "[ 2.  4. 11.]\n"
     ]
    }
   ],
   "source": [
    "print(np.percentile(percen['transactionId'], [95, 99, 100]))"
   ]
  },
  {
   "cell_type": "markdown",
   "metadata": {},
   "source": [
    "Los usuarios hacen en su mayoría un solo pedido, estando dentro del 95% los usuarios con un pedido. Por otro lado los usuarios con dos pedidos son menores y significativamente menores los usuarios con 3 pedidos. No encontramos anomalías entre los valores, sin embargo hay que tomar en cuenta que se realizó un filtrado al incio del proyecto donde se eliminaron los usuarios que estaban en ambos grupos (pudiendo ser estos los que hacían más pedidos)"
   ]
  },
  {
   "cell_type": "markdown",
   "metadata": {},
   "source": [
    "### Traza un gráfico de dispersión de los precios de los pedidos. Haz conclusiones y conjeturas."
   ]
  },
  {
   "cell_type": "code",
   "execution_count": 54,
   "metadata": {},
   "outputs": [
    {
     "data": {
      "image/png": "[encoded data removed]",
      "text/plain": [
       "<Figure size 1000x600 with 1 Axes>"
      ]
     },
     "metadata": {},
     "output_type": "display_data"
    }
   ],
   "source": [
    "# Calcular el ingreso total por pedido\n",
    "orders_by_transaction = orders_.groupby(['transactionId', 'visitorId', 'group'], as_index=False).agg({'revenue': 'sum'})\n",
    "\n",
    "# Separar los datos en dos conjuntos: grupo A y grupo B\n",
    "group_a = orders_by_transaction[orders_by_transaction['group'] == 'A']\n",
    "group_b = orders_by_transaction[orders_by_transaction['group'] == 'B']\n",
    "\n",
    "# Crear el gráfico de dispersión\n",
    "plt.figure(figsize=(10, 6))\n",
    "\n",
    "# Graficar grupo A\n",
    "plt.scatter(group_a['transactionId'], group_a['revenue'], color='blue', label='Grupo A', alpha=0.5)\n",
    "\n",
    "# Graficar grupo B\n",
    "plt.scatter(group_b['transactionId'], group_b['revenue'], color='red', label='Grupo B', alpha=0.5)\n",
    "\n",
    "# Etiquetas y título\n",
    "plt.xlabel('Pedido')\n",
    "plt.ylabel('Ingreso')\n",
    "plt.title('Precios por pedido')\n",
    "plt.legend()\n",
    "\n",
    "# Mostrar gráfico\n",
    "plt.show()"
   ]
  },
  {
   "cell_type": "markdown",
   "metadata": {},
   "source": [
    "Nos encontramos con un valor atipico, el cual afecta a todo el gráfico. Fuera de ello parece ser que los precios no presentan gran variación según el revenue de cada pedido."
   ]
  },
  {
   "cell_type": "markdown",
   "metadata": {},
   "source": [
    "### Calcula los percentiles 95 y 99 de los precios de los pedidos. Define el punto en el cual un punto de datos se convierte en una anomalía.\n"
   ]
  },
  {
   "cell_type": "code",
   "execution_count": 55,
   "metadata": {},
   "outputs": [
    {
     "name": "stdout",
     "output_type": "stream",
     "text": [
      "[  435.54    900.904 19920.4  ]\n"
     ]
    }
   ],
   "source": [
    "percen_price = orders_.groupby(['transactionId', 'visitorId', 'group'], as_index=False).agg({'revenue': 'sum'})\n",
    "print(np.percentile(percen_price['revenue'], [95, 99, 100]))"
   ]
  },
  {
   "cell_type": "markdown",
   "metadata": {},
   "source": [
    "Encontramos que si hay anomalias, valores que salen mucho del resto. En este caso entre el 99 y el 100 se encuentran valores altos, mientras que el 95% de los valores son inferiores a 415."
   ]
  },
  {
   "cell_type": "markdown",
   "metadata": {},
   "source": [
    "### Encuentra la significancia estadística de la diferencia en la conversión entre los grupos utilizando los datos en bruto. Haz conclusiones y conjeturas.\n"
   ]
  },
  {
   "cell_type": "code",
   "execution_count": 56,
   "metadata": {},
   "outputs": [
    {
     "name": "stdout",
     "output_type": "stream",
     "text": [
      "No hay significancia\n"
     ]
    }
   ],
   "source": [
    "from scipy.stats import ttest_ind\n",
    "\n",
    "stat, p_value = ttest_ind(\n",
    "    conver.query('group == \"A\"')['cumlative_conversion'],\n",
    "    conver.query('group == \"B\"')['cumlative_conversion']\n",
    ")\n",
    "\n",
    "p_value\n",
    "\n",
    "#deteminamos alfa\n",
    "alpha = 0.05\n",
    "if p_value < alpha:\n",
    "    print(\"No hay significancia\")\n",
    "else:\n",
    "    print(\"Si hay significancia estadística\")"
   ]
  },
  {
   "cell_type": "markdown",
   "metadata": {},
   "source": [
    "Nos encontramos con que no hay una diferencia significativa entre ambos grupos de acuerdo con esta prueba."
   ]
  },
  {
   "cell_type": "markdown",
   "metadata": {},
   "source": [
    "### Encuentra la significancia estadística de la diferencia en el tamaño promedio de pedido entre los grupos utilizando los datos en bruto. Haz conclusiones y conjeturas."
   ]
  },
  {
   "cell_type": "code",
   "execution_count": 57,
   "metadata": {},
   "outputs": [
    {
     "name": "stdout",
     "output_type": "stream",
     "text": [
      "Si hay significancia estadística\n"
     ]
    },
    {
     "name": "stderr",
     "output_type": "stream",
     "text": [
      "C:\\Users\\erika\\AppData\\Local\\Packages\\PythonSoftwareFoundation.Python.3.12_qbz5n2kfra8p0\\LocalCache\\local-packages\\Python312\\site-packages\\scipy\\stats\\_stats_py.py:6558: RuntimeWarning: invalid value encountered in scalar divide\n",
      "  svar = ((n1 - 1) * v1 + (n2 - 1) * v2) / df\n"
     ]
    }
   ],
   "source": [
    "from scipy.stats import ttest_ind\n",
    "\n",
    "#Dividimos los grupos ypromediamos la columna revenue\n",
    "stat, p_value = ttest_ind(\n",
    "    orders_.query('group == \"A\"')['revenue'].mean(),\n",
    "    orders_.query('group == \"B\"')['revenue'].mean()\n",
    ")\n",
    "\n",
    "p_value\n",
    "\n",
    "#deteminamos alfa\n",
    "alpha = 0.05\n",
    "if p_value < alpha:\n",
    "    print(\"No hay significancia\")\n",
    "else:\n",
    "    print(\"Si hay significancia estadística\")"
   ]
  },
  {
   "cell_type": "markdown",
   "metadata": {},
   "source": [
    "Nos encontramos con que si hay significancia estadística, probaremos la prueba Mann Witney dado que los datos aquí parceen ser demasiado similares desencadenando una posible pérdida de valores."
   ]
  },
  {
   "cell_type": "code",
   "execution_count": 58,
   "metadata": {},
   "outputs": [
    {
     "name": "stdout",
     "output_type": "stream",
     "text": [
      "Estadístico U: 0.0\n",
      "Valor p: 1.0\n",
      "No hay una diferencia significativa entre los grupos.\n"
     ]
    }
   ],
   "source": [
    "#Definimos los gruposy su promedio\n",
    "group_a = orders_.query('group == \"A\"')['revenue'].mean()\n",
    "group_b = orders_.query('group == \"B\"')['revenue'].mean()\n",
    "\n",
    "#Importamos la prueba\n",
    "from scipy.stats import mannwhitneyu\n",
    "stat, p_value = mannwhitneyu(group_a, group_b)\n",
    "\n",
    "print(f'Estadístico U: {stat}')\n",
    "print(f'Valor p: {p_value}')\n",
    "\n",
    "# Declaramos la significancia\n",
    "if p_value < 0.05:\n",
    "    print(\"Hay una diferencia significativa entre los grupos.\")\n",
    "else:\n",
    "    print(\"No hay una diferencia significativa entre los grupos.\")"
   ]
  },
  {
   "cell_type": "markdown",
   "metadata": {},
   "source": [
    "### Encuentra la significancia estadística de la diferencia en la conversión entre los grupos utilizando los datos filtrados. Haz conclusiones y conjeturas.\n"
   ]
  },
  {
   "cell_type": "code",
   "execution_count": 59,
   "metadata": {},
   "outputs": [
    {
     "name": "stdout",
     "output_type": "stream",
     "text": [
      "No hay significancia\n"
     ]
    }
   ],
   "source": [
    "#Estableceremos con el 99%\n",
    "percentile_conver = conver['cumlative_conversion'].quantile(0.99)\n",
    "\n",
    "#filtramos\n",
    "conver_filtered = conver[conver['cumlative_conversion'] <= percentile_conver]\n",
    "\n",
    "#Aplicamos la prueba\n",
    "from scipy.stats import ttest_ind\n",
    "\n",
    "stat, p_value = ttest_ind(\n",
    "    conver_filtered.query('group == \"A\"')['cumlative_conversion'],\n",
    "    conver_filtered.query('group == \"B\"')['cumlative_conversion']\n",
    ")\n",
    "\n",
    "p_value\n",
    "\n",
    "#deteminamos alfa\n",
    "alpha = 0.05\n",
    "if p_value < alpha:\n",
    "    print(\"No hay significancia\")\n",
    "else:\n",
    "    print(\"Si hay significancia estadística\")"
   ]
  },
  {
   "cell_type": "markdown",
   "metadata": {},
   "source": [
    "Este resultado coincide con los datos en bruto, no hay significancia"
   ]
  },
  {
   "cell_type": "markdown",
   "metadata": {},
   "source": [
    "### Encuentra la significancia estadística de la diferencia en el tamaño promedio de pedido entre los grupos utilizando los datos filtrados. Haz conclusiones y conjeturas.\n"
   ]
  },
  {
   "cell_type": "code",
   "execution_count": 60,
   "metadata": {},
   "outputs": [
    {
     "name": "stdout",
     "output_type": "stream",
     "text": [
      "Estadístico U: 0.0\n",
      "Valor p: 1.0\n",
      "No hay una diferencia significativa entre los grupos.\n"
     ]
    }
   ],
   "source": [
    "#Estableceremos con el 99%\n",
    "percentile_orders = orders_['revenue'].quantile(0.99)\n",
    "\n",
    "#filtramos\n",
    "orders_filtered = orders_[orders_['revenue'] <= percentile_orders]\n",
    "\n",
    "#Definimos los grupos y su promedio\n",
    "group_a = orders_filtered.query('group == \"A\"')['revenue'].mean()\n",
    "group_b = orders_filtered.query('group == \"B\"')['revenue'].mean()\n",
    "\n",
    "#Importamos la prueba\n",
    "from scipy.stats import mannwhitneyu\n",
    "stat, p_value = mannwhitneyu(group_a, group_b)\n",
    "\n",
    "print(f'Estadístico U: {stat}')\n",
    "print(f'Valor p: {p_value}')\n",
    "\n",
    "# Declaramos la significancia\n",
    "if p_value < 0.05:\n",
    "    print(\"Hay una diferencia significativa entre los grupos.\")\n",
    "else:\n",
    "    print(\"No hay una diferencia significativa entre los grupos.\")"
   ]
  },
  {
   "cell_type": "markdown",
   "metadata": {},
   "source": [
    "Una vez más, tenemos como resultado que no hay significancia estadística entre ambos grupos"
   ]
  },
  {
   "cell_type": "markdown",
   "metadata": {},
   "source": [
    "### Toma una decisión basada en los resultados de la prueba. \n",
    "Las decisiones posibles son: \n",
    "1. Para la prueba, considera a uno de los grupos como líder. \n",
    "2. Para la prueba, concluye que no hay diferencia entre los grupos. \n",
    "3. Continúa la prueba."
   ]
  },
  {
   "cell_type": "markdown",
   "metadata": {},
   "source": [
    "Para responder esta pregunta, haremos un p_value acumulado en el que consideraremos las conversiones acumuladas a través de los días y posteriormente graficaremos el mismo acumulado. Ya que las gráficas simples no son tan representativas visualmente, una gráfica acumulada nos permitirá ver los cambios en las conversiones y compras a lo largo del experimento."
   ]
  },
  {
   "cell_type": "code",
   "execution_count": 61,
   "metadata": {},
   "outputs": [
    {
     "name": "stderr",
     "output_type": "stream",
     "text": [
      "C:\\Users\\erika\\AppData\\Local\\Packages\\PythonSoftwareFoundation.Python.3.12_qbz5n2kfra8p0\\LocalCache\\local-packages\\Python312\\site-packages\\scipy\\stats\\_stats_py.py:6558: RuntimeWarning: invalid value encountered in scalar divide\n",
      "  svar = ((n1 - 1) * v1 + (n2 - 1) * v2) / df\n"
     ]
    },
    {
     "data": {
      "image/png": "[encoded data removed]",
      "text/plain": [
       "<Figure size 640x480 with 1 Axes>"
      ]
     },
     "metadata": {},
     "output_type": "display_data"
    }
   ],
   "source": [
    "#Vamos a realizar una prueba para los p_values acumulados\n",
    "#Agregamos almacenamiento para valores de p_value y días\n",
    "p_values = []\n",
    "days = []\n",
    "\n",
    "#Creamos un bucle que considere los valores de los días anteriores para tener los acumulados\n",
    "for day in conver['date'].unique():\n",
    "    tmp_data = conver[conver['date'] <= day]\n",
    "    \n",
    "    _, p_value = ttest_ind(\n",
    "        tmp_data.query('group == \"A\"')['cumlative_conversion'],\n",
    "        tmp_data.query('group == \"B\"')['cumlative_conversion']\n",
    "    )\n",
    "    \n",
    "    p_values.append(p_value)\n",
    "    days.append(day)\n",
    "\n",
    "daily_ttests = pd.DataFrame({\n",
    "    'date': days,\n",
    "    'p_value': p_values\n",
    "})\n",
    "\n",
    "#Graficamos los valores del p_value\n",
    "daily_ttests.plot(kind='line', x='date', y='p_value')\n",
    "#Agregamos una linea para definir la significancia de alpha\n",
    "plt.gca().axhline(y=0.05, color='red', ls='--')\n",
    "plt.show()"
   ]
  },
  {
   "cell_type": "markdown",
   "metadata": {},
   "source": [
    "El el gráfico la linea azul es el valor de p_value acumulado, por lo que vemos se estabiliza a partir del 16 de agosto y en las fechas posteriores se mantiene en 0, lo que nos muestra una significancia nula entre las conversiones acumuladas de ambos grupos. Igualmente nos deja observar que por la estabilidad de la linea no es necesario continuar con la prueba ya que no parecen haber fluctuaciones a lo largo del tiempo. La linea roja es nuestro valor alpha del 0.05 para medir la significancia y una vez que los datos están estables se encuentran por debajo de esa linea. \n",
    "En conclusión podemos recomendar parar la prueba y afirmar que no hay diferencia entre ambos grupos."
   ]
  }
 ],
 "metadata": {
  "ExecuteTimeLog": [
   {
    "duration": 443,
    "start_time": "2024-08-01T10:47:56.544Z"
   },
   {
    "duration": 362,
    "start_time": "2024-08-01T10:51:10.517Z"
   },
   {
    "duration": 28,
    "start_time": "2024-08-01T10:51:32.634Z"
   },
   {
    "duration": 21,
    "start_time": "2024-08-01T10:53:18.480Z"
   },
   {
    "duration": 13,
    "start_time": "2024-08-01T10:53:27.746Z"
   },
   {
    "duration": 15,
    "start_time": "2024-08-01T10:53:45.010Z"
   },
   {
    "duration": 7,
    "start_time": "2024-08-01T10:54:00.875Z"
   },
   {
    "duration": 15,
    "start_time": "2024-08-01T10:56:15.145Z"
   },
   {
    "duration": 14,
    "start_time": "2024-08-01T10:56:18.033Z"
   },
   {
    "duration": 11,
    "start_time": "2024-08-01T10:56:23.464Z"
   },
   {
    "duration": 12,
    "start_time": "2024-08-01T10:58:23.546Z"
   },
   {
    "duration": 17,
    "start_time": "2024-08-01T10:58:40.467Z"
   },
   {
    "duration": 14,
    "start_time": "2024-08-01T10:58:49.527Z"
   },
   {
    "duration": 12,
    "start_time": "2024-08-01T10:58:59.767Z"
   },
   {
    "duration": 6,
    "start_time": "2024-08-01T11:01:31.467Z"
   },
   {
    "duration": 7,
    "start_time": "2024-08-01T11:01:43.479Z"
   },
   {
    "duration": 7,
    "start_time": "2024-08-01T11:02:13.147Z"
   },
   {
    "duration": 5,
    "start_time": "2024-08-01T11:03:04.205Z"
   },
   {
    "duration": 501,
    "start_time": "2024-08-01T15:05:30.096Z"
   },
   {
    "duration": 30,
    "start_time": "2024-08-01T15:05:30.602Z"
   },
   {
    "duration": 16,
    "start_time": "2024-08-01T15:05:30.635Z"
   },
   {
    "duration": 36,
    "start_time": "2024-08-01T15:05:30.656Z"
   },
   {
    "duration": 16,
    "start_time": "2024-08-01T15:05:30.695Z"
   },
   {
    "duration": 14,
    "start_time": "2024-08-01T15:05:30.715Z"
   },
   {
    "duration": 8,
    "start_time": "2024-08-01T15:05:30.732Z"
   },
   {
    "duration": 51,
    "start_time": "2024-08-01T15:05:30.744Z"
   },
   {
    "duration": 13,
    "start_time": "2024-08-01T15:10:43.139Z"
   },
   {
    "duration": 16,
    "start_time": "2024-08-01T15:10:55.100Z"
   },
   {
    "duration": 13,
    "start_time": "2024-08-01T15:11:02.523Z"
   },
   {
    "duration": 11,
    "start_time": "2024-08-01T15:11:24.478Z"
   },
   {
    "duration": 7,
    "start_time": "2024-08-01T15:12:20.527Z"
   },
   {
    "duration": 10,
    "start_time": "2024-08-01T15:24:52.635Z"
   },
   {
    "duration": 9,
    "start_time": "2024-08-01T15:24:58.458Z"
   },
   {
    "duration": 8,
    "start_time": "2024-08-01T15:25:19.272Z"
   },
   {
    "duration": 1207,
    "start_time": "2024-08-01T15:28:11.937Z"
   },
   {
    "duration": 6,
    "start_time": "2024-08-01T15:28:42.886Z"
   },
   {
    "duration": 7,
    "start_time": "2024-08-01T15:29:58.351Z"
   },
   {
    "duration": 13,
    "start_time": "2024-08-01T15:54:31.922Z"
   },
   {
    "duration": 22,
    "start_time": "2024-08-01T16:14:00.389Z"
   },
   {
    "duration": 15,
    "start_time": "2024-08-01T16:16:29.482Z"
   },
   {
    "duration": 17,
    "start_time": "2024-08-01T16:17:53.130Z"
   },
   {
    "duration": 24,
    "start_time": "2024-08-01T16:39:13.733Z"
   },
   {
    "duration": 3992,
    "start_time": "2024-08-01T16:39:44.126Z"
   },
   {
    "duration": 211,
    "start_time": "2024-08-01T16:39:53.745Z"
   },
   {
    "duration": 220,
    "start_time": "2024-08-01T16:59:28.739Z"
   },
   {
    "duration": 209,
    "start_time": "2024-08-01T17:02:48.891Z"
   },
   {
    "duration": 194,
    "start_time": "2024-08-01T17:03:28.432Z"
   },
   {
    "duration": 210,
    "start_time": "2024-08-01T17:05:42.401Z"
   },
   {
    "duration": 213,
    "start_time": "2024-08-01T17:05:52.436Z"
   },
   {
    "duration": 207,
    "start_time": "2024-08-01T17:08:53.633Z"
   },
   {
    "duration": 298,
    "start_time": "2024-08-01T17:09:45.823Z"
   },
   {
    "duration": 4331,
    "start_time": "2024-08-02T15:28:16.435Z"
   },
   {
    "duration": 5,
    "start_time": "2024-08-02T15:28:27.305Z"
   },
   {
    "duration": 42,
    "start_time": "2024-08-02T15:28:27.315Z"
   },
   {
    "duration": 15,
    "start_time": "2024-08-02T15:28:27.360Z"
   },
   {
    "duration": 16,
    "start_time": "2024-08-02T15:28:27.377Z"
   },
   {
    "duration": 29,
    "start_time": "2024-08-02T15:28:27.398Z"
   },
   {
    "duration": 12,
    "start_time": "2024-08-02T15:28:27.433Z"
   },
   {
    "duration": 10,
    "start_time": "2024-08-02T15:28:27.449Z"
   },
   {
    "duration": 18,
    "start_time": "2024-08-02T15:28:27.462Z"
   },
   {
    "duration": 57,
    "start_time": "2024-08-02T15:28:27.483Z"
   },
   {
    "duration": 7,
    "start_time": "2024-08-02T15:28:27.543Z"
   },
   {
    "duration": 9,
    "start_time": "2024-08-02T15:28:27.555Z"
   },
   {
    "duration": 7,
    "start_time": "2024-08-02T15:28:27.567Z"
   },
   {
    "duration": 60,
    "start_time": "2024-08-02T15:28:27.578Z"
   },
   {
    "duration": 17,
    "start_time": "2024-08-02T15:28:27.641Z"
   },
   {
    "duration": 246,
    "start_time": "2024-08-02T15:28:27.661Z"
   },
   {
    "duration": 4,
    "start_time": "2024-08-02T15:36:13.813Z"
   },
   {
    "duration": 28,
    "start_time": "2024-08-02T15:52:01.692Z"
   },
   {
    "duration": 328,
    "start_time": "2024-08-02T15:53:34.134Z"
   },
   {
    "duration": 402,
    "start_time": "2024-08-02T16:03:35.851Z"
   },
   {
    "duration": 34,
    "start_time": "2024-08-02T16:07:57.255Z"
   },
   {
    "duration": 321,
    "start_time": "2024-08-02T16:08:05.715Z"
   },
   {
    "duration": 4220,
    "start_time": "2024-08-06T14:02:20.799Z"
   },
   {
    "duration": 35,
    "start_time": "2024-08-06T14:02:25.026Z"
   },
   {
    "duration": 15,
    "start_time": "2024-08-06T14:02:25.064Z"
   },
   {
    "duration": 15,
    "start_time": "2024-08-06T14:02:25.083Z"
   },
   {
    "duration": 34,
    "start_time": "2024-08-06T14:02:25.103Z"
   },
   {
    "duration": 18,
    "start_time": "2024-08-06T14:02:25.144Z"
   },
   {
    "duration": 11,
    "start_time": "2024-08-06T14:02:25.165Z"
   },
   {
    "duration": 48,
    "start_time": "2024-08-06T14:02:25.180Z"
   },
   {
    "duration": 10,
    "start_time": "2024-08-06T14:02:25.234Z"
   },
   {
    "duration": 6,
    "start_time": "2024-08-06T14:02:25.248Z"
   },
   {
    "duration": 9,
    "start_time": "2024-08-06T14:02:25.257Z"
   },
   {
    "duration": 10,
    "start_time": "2024-08-06T14:02:25.269Z"
   },
   {
    "duration": 41,
    "start_time": "2024-08-06T14:02:25.285Z"
   },
   {
    "duration": 17,
    "start_time": "2024-08-06T14:02:25.331Z"
   },
   {
    "duration": 17,
    "start_time": "2024-08-06T14:02:25.351Z"
   },
   {
    "duration": 255,
    "start_time": "2024-08-06T14:02:25.372Z"
   },
   {
    "duration": 24,
    "start_time": "2024-08-06T14:02:25.630Z"
   },
   {
    "duration": 353,
    "start_time": "2024-08-06T14:02:25.657Z"
   },
   {
    "duration": 44,
    "start_time": "2024-08-06T14:02:26.013Z"
   },
   {
    "duration": 347,
    "start_time": "2024-08-06T14:02:26.060Z"
   },
   {
    "duration": 7,
    "start_time": "2024-08-06T14:10:50.258Z"
   },
   {
    "duration": 1204,
    "start_time": "2024-08-06T14:12:29.968Z"
   },
   {
    "duration": 8,
    "start_time": "2024-08-06T14:12:56.187Z"
   },
   {
    "duration": 6,
    "start_time": "2024-08-06T14:13:16.069Z"
   },
   {
    "duration": 6,
    "start_time": "2024-08-06T14:13:31.848Z"
   },
   {
    "duration": 6,
    "start_time": "2024-08-06T14:13:36.590Z"
   },
   {
    "duration": 7,
    "start_time": "2024-08-06T14:16:20.532Z"
   },
   {
    "duration": 8,
    "start_time": "2024-08-06T14:16:32.178Z"
   },
   {
    "duration": 9,
    "start_time": "2024-08-06T14:16:59.982Z"
   },
   {
    "duration": 6,
    "start_time": "2024-08-06T14:17:19.106Z"
   },
   {
    "duration": 7,
    "start_time": "2024-08-06T14:21:20.599Z"
   },
   {
    "duration": 22,
    "start_time": "2024-08-06T14:24:02.994Z"
   },
   {
    "duration": 18,
    "start_time": "2024-08-06T14:24:27.603Z"
   },
   {
    "duration": 6,
    "start_time": "2024-08-06T14:27:18.366Z"
   },
   {
    "duration": 23,
    "start_time": "2024-08-06T14:27:45.312Z"
   },
   {
    "duration": 354,
    "start_time": "2024-08-06T14:27:49.539Z"
   },
   {
    "duration": 35,
    "start_time": "2024-08-06T14:28:14.050Z"
   },
   {
    "duration": 336,
    "start_time": "2024-08-06T14:28:18.215Z"
   },
   {
    "duration": 30,
    "start_time": "2024-08-06T15:09:08.592Z"
   },
   {
    "duration": 21,
    "start_time": "2024-08-06T15:09:14.108Z"
   },
   {
    "duration": 12,
    "start_time": "2024-08-06T15:09:29.248Z"
   },
   {
    "duration": 1300,
    "start_time": "2024-08-06T15:14:08.567Z"
   },
   {
    "duration": 13,
    "start_time": "2024-08-06T15:19:00.955Z"
   },
   {
    "duration": 11,
    "start_time": "2024-08-06T15:19:13.823Z"
   },
   {
    "duration": 158,
    "start_time": "2024-08-06T15:20:02.884Z"
   },
   {
    "duration": 157,
    "start_time": "2024-08-06T15:22:40.517Z"
   },
   {
    "duration": 172,
    "start_time": "2024-08-06T15:23:27.489Z"
   },
   {
    "duration": 159,
    "start_time": "2024-08-06T15:23:51.373Z"
   },
   {
    "duration": 19,
    "start_time": "2024-08-06T15:24:40.522Z"
   },
   {
    "duration": 6,
    "start_time": "2024-08-06T15:24:50.873Z"
   },
   {
    "duration": 18,
    "start_time": "2024-08-06T15:25:00.731Z"
   },
   {
    "duration": 22,
    "start_time": "2024-08-06T15:25:17.010Z"
   },
   {
    "duration": 33,
    "start_time": "2024-08-06T15:25:25.793Z"
   },
   {
    "duration": 352,
    "start_time": "2024-08-06T15:25:32.612Z"
   },
   {
    "duration": 12,
    "start_time": "2024-08-06T15:25:40.002Z"
   },
   {
    "duration": 165,
    "start_time": "2024-08-06T15:25:49.393Z"
   },
   {
    "duration": 158,
    "start_time": "2024-08-06T15:27:44.564Z"
   },
   {
    "duration": 157,
    "start_time": "2024-08-06T15:27:58.831Z"
   },
   {
    "duration": 160,
    "start_time": "2024-08-06T15:28:56.253Z"
   },
   {
    "duration": 13,
    "start_time": "2024-08-06T15:29:17.120Z"
   },
   {
    "duration": 183,
    "start_time": "2024-08-06T15:33:00.738Z"
   },
   {
    "duration": 9,
    "start_time": "2024-08-06T15:33:25.803Z"
   },
   {
    "duration": 161,
    "start_time": "2024-08-06T15:33:32.624Z"
   },
   {
    "duration": 4,
    "start_time": "2024-08-06T15:35:51.520Z"
   },
   {
    "duration": 24,
    "start_time": "2024-08-06T15:35:51.528Z"
   },
   {
    "duration": 17,
    "start_time": "2024-08-06T15:35:51.557Z"
   },
   {
    "duration": 50,
    "start_time": "2024-08-06T15:35:51.578Z"
   },
   {
    "duration": 18,
    "start_time": "2024-08-06T15:35:51.633Z"
   },
   {
    "duration": 16,
    "start_time": "2024-08-06T15:35:51.654Z"
   },
   {
    "duration": 6,
    "start_time": "2024-08-06T15:35:51.673Z"
   },
   {
    "duration": 51,
    "start_time": "2024-08-06T15:35:51.683Z"
   },
   {
    "duration": 14,
    "start_time": "2024-08-06T15:35:51.738Z"
   },
   {
    "duration": 6,
    "start_time": "2024-08-06T15:35:51.755Z"
   },
   {
    "duration": 10,
    "start_time": "2024-08-06T15:35:51.768Z"
   },
   {
    "duration": 8,
    "start_time": "2024-08-06T15:35:51.828Z"
   },
   {
    "duration": 22,
    "start_time": "2024-08-06T15:35:51.840Z"
   },
   {
    "duration": 7,
    "start_time": "2024-08-06T15:35:51.865Z"
   },
   {
    "duration": 56,
    "start_time": "2024-08-06T15:35:51.876Z"
   },
   {
    "duration": 35,
    "start_time": "2024-08-06T15:35:51.936Z"
   },
   {
    "duration": 234,
    "start_time": "2024-08-06T15:35:51.974Z"
   },
   {
    "duration": 32,
    "start_time": "2024-08-06T15:35:52.212Z"
   },
   {
    "duration": 381,
    "start_time": "2024-08-06T15:35:52.248Z"
   },
   {
    "duration": 35,
    "start_time": "2024-08-06T15:35:52.634Z"
   },
   {
    "duration": 472,
    "start_time": "2024-08-06T15:35:52.672Z"
   },
   {
    "duration": 11,
    "start_time": "2024-08-06T15:35:53.147Z"
   },
   {
    "duration": 16,
    "start_time": "2024-08-06T15:35:53.162Z"
   },
   {
    "duration": 48,
    "start_time": "2024-08-06T15:35:53.181Z"
   },
   {
    "duration": 12,
    "start_time": "2024-08-06T15:36:45.500Z"
   },
   {
    "duration": 507,
    "start_time": "2024-08-06T15:40:59.662Z"
   },
   {
    "duration": 122,
    "start_time": "2024-08-06T15:41:34.095Z"
   },
   {
    "duration": 300,
    "start_time": "2024-08-06T15:42:49.300Z"
   },
   {
    "duration": 12,
    "start_time": "2024-08-06T16:04:41.017Z"
   },
   {
    "duration": 13,
    "start_time": "2024-08-06T16:05:17.044Z"
   },
   {
    "duration": 16,
    "start_time": "2024-08-06T16:24:42.848Z"
   },
   {
    "duration": 18,
    "start_time": "2024-08-06T16:26:23.536Z"
   },
   {
    "duration": 6,
    "start_time": "2024-08-06T16:34:11.480Z"
   },
   {
    "duration": 7,
    "start_time": "2024-08-06T16:34:27.477Z"
   },
   {
    "duration": 481,
    "start_time": "2024-08-06T16:34:58.493Z"
   },
   {
    "duration": 11,
    "start_time": "2024-08-06T16:36:57.614Z"
   },
   {
    "duration": 14,
    "start_time": "2024-08-06T16:37:18.996Z"
   },
   {
    "duration": 413,
    "start_time": "2024-08-06T16:37:29.682Z"
   },
   {
    "duration": 12,
    "start_time": "2024-08-06T16:37:35.596Z"
   },
   {
    "duration": 206,
    "start_time": "2024-08-06T16:38:18.291Z"
   },
   {
    "duration": 213,
    "start_time": "2024-08-06T16:38:25.701Z"
   },
   {
    "duration": 10,
    "start_time": "2024-08-06T16:42:46.337Z"
   },
   {
    "duration": 12,
    "start_time": "2024-08-06T16:43:27.907Z"
   },
   {
    "duration": 14,
    "start_time": "2024-08-06T17:15:23.013Z"
   },
   {
    "duration": 10,
    "start_time": "2024-08-06T17:15:31.958Z"
   },
   {
    "duration": 18,
    "start_time": "2024-08-06T17:25:57.043Z"
   },
   {
    "duration": 16,
    "start_time": "2024-08-06T17:27:33.964Z"
   },
   {
    "duration": 7,
    "start_time": "2024-08-06T17:29:49.651Z"
   },
   {
    "duration": 25,
    "start_time": "2024-08-06T17:29:57.579Z"
   },
   {
    "duration": 24,
    "start_time": "2024-08-06T17:30:15.349Z"
   },
   {
    "duration": 316,
    "start_time": "2024-08-06T17:30:45.540Z"
   },
   {
    "duration": 16,
    "start_time": "2024-08-06T17:31:10.523Z"
   },
   {
    "duration": 335,
    "start_time": "2024-08-06T17:31:22.500Z"
   },
   {
    "duration": 79,
    "start_time": "2024-08-06T17:37:42.245Z"
   },
   {
    "duration": 9,
    "start_time": "2024-08-06T17:39:54.253Z"
   },
   {
    "duration": 6,
    "start_time": "2024-08-06T17:40:22.908Z"
   },
   {
    "duration": 6,
    "start_time": "2024-08-06T17:41:14.429Z"
   },
   {
    "duration": 5030,
    "start_time": "2024-08-06T18:10:31.867Z"
   },
   {
    "duration": 41,
    "start_time": "2024-08-06T18:10:36.904Z"
   },
   {
    "duration": 16,
    "start_time": "2024-08-06T18:10:36.948Z"
   },
   {
    "duration": 25,
    "start_time": "2024-08-06T18:10:36.969Z"
   },
   {
    "duration": 18,
    "start_time": "2024-08-06T18:10:37.001Z"
   },
   {
    "duration": 18,
    "start_time": "2024-08-06T18:10:37.023Z"
   },
   {
    "duration": 9,
    "start_time": "2024-08-06T18:10:37.045Z"
   },
   {
    "duration": 45,
    "start_time": "2024-08-06T18:10:37.057Z"
   },
   {
    "duration": 16,
    "start_time": "2024-08-06T18:10:37.105Z"
   },
   {
    "duration": 7,
    "start_time": "2024-08-06T18:10:37.128Z"
   },
   {
    "duration": 53,
    "start_time": "2024-08-06T18:10:37.139Z"
   },
   {
    "duration": 9,
    "start_time": "2024-08-06T18:10:37.197Z"
   },
   {
    "duration": 23,
    "start_time": "2024-08-06T18:10:37.209Z"
   },
   {
    "duration": 7,
    "start_time": "2024-08-06T18:10:37.235Z"
   },
   {
    "duration": 55,
    "start_time": "2024-08-06T18:10:37.247Z"
   },
   {
    "duration": 22,
    "start_time": "2024-08-06T18:10:37.306Z"
   },
   {
    "duration": 319,
    "start_time": "2024-08-06T18:10:37.334Z"
   },
   {
    "duration": 45,
    "start_time": "2024-08-06T18:10:37.656Z"
   },
   {
    "duration": 393,
    "start_time": "2024-08-06T18:10:37.704Z"
   },
   {
    "duration": 52,
    "start_time": "2024-08-06T18:10:38.100Z"
   },
   {
    "duration": 359,
    "start_time": "2024-08-06T18:10:38.156Z"
   },
   {
    "duration": 13,
    "start_time": "2024-08-06T18:10:38.518Z"
   },
   {
    "duration": 18,
    "start_time": "2024-08-06T18:10:38.535Z"
   },
   {
    "duration": 346,
    "start_time": "2024-08-06T18:10:38.590Z"
   },
   {
    "duration": 23,
    "start_time": "2024-08-06T18:10:38.939Z"
   },
   {
    "duration": 41,
    "start_time": "2024-08-06T18:10:38.966Z"
   },
   {
    "duration": 386,
    "start_time": "2024-08-06T18:10:39.010Z"
   },
   {
    "duration": 440,
    "start_time": "2024-08-06T18:10:39.405Z"
   },
   {
    "duration": 10,
    "start_time": "2024-08-06T18:10:39.848Z"
   },
   {
    "duration": 33,
    "start_time": "2024-08-06T18:10:39.861Z"
   },
   {
    "duration": 4252,
    "start_time": "2024-08-06T18:56:10.278Z"
   },
   {
    "duration": 30,
    "start_time": "2024-08-06T18:56:14.534Z"
   },
   {
    "duration": 16,
    "start_time": "2024-08-06T18:56:14.566Z"
   },
   {
    "duration": 14,
    "start_time": "2024-08-06T18:56:14.586Z"
   },
   {
    "duration": 14,
    "start_time": "2024-08-06T18:56:14.627Z"
   },
   {
    "duration": 12,
    "start_time": "2024-08-06T18:56:14.644Z"
   },
   {
    "duration": 7,
    "start_time": "2024-08-06T18:56:14.659Z"
   },
   {
    "duration": 14,
    "start_time": "2024-08-06T18:56:14.669Z"
   },
   {
    "duration": 48,
    "start_time": "2024-08-06T18:56:14.686Z"
   },
   {
    "duration": 5,
    "start_time": "2024-08-06T18:56:14.737Z"
   },
   {
    "duration": 9,
    "start_time": "2024-08-06T18:56:14.746Z"
   },
   {
    "duration": 8,
    "start_time": "2024-08-06T18:56:14.758Z"
   },
   {
    "duration": 67,
    "start_time": "2024-08-06T18:56:14.768Z"
   },
   {
    "duration": 6,
    "start_time": "2024-08-06T18:56:14.841Z"
   },
   {
    "duration": 16,
    "start_time": "2024-08-06T18:56:14.850Z"
   },
   {
    "duration": 18,
    "start_time": "2024-08-06T18:56:14.869Z"
   },
   {
    "duration": 230,
    "start_time": "2024-08-06T18:56:14.925Z"
   },
   {
    "duration": 21,
    "start_time": "2024-08-06T18:56:15.159Z"
   },
   {
    "duration": 443,
    "start_time": "2024-08-06T18:56:15.183Z"
   },
   {
    "duration": 32,
    "start_time": "2024-08-06T18:56:15.629Z"
   },
   {
    "duration": 350,
    "start_time": "2024-08-06T18:56:15.664Z"
   },
   {
    "duration": 15,
    "start_time": "2024-08-06T18:56:16.018Z"
   },
   {
    "duration": 15,
    "start_time": "2024-08-06T18:56:16.037Z"
   },
   {
    "duration": 341,
    "start_time": "2024-08-06T18:56:16.055Z"
   },
   {
    "duration": 40,
    "start_time": "2024-08-06T18:56:16.399Z"
   },
   {
    "duration": 19,
    "start_time": "2024-08-06T18:56:16.442Z"
   },
   {
    "duration": 362,
    "start_time": "2024-08-06T18:56:16.464Z"
   },
   {
    "duration": 416,
    "start_time": "2024-08-06T18:56:16.829Z"
   },
   {
    "duration": 10,
    "start_time": "2024-08-06T18:56:17.248Z"
   },
   {
    "duration": 6,
    "start_time": "2024-08-06T18:56:17.261Z"
   },
   {
    "duration": 23,
    "start_time": "2024-08-06T19:08:50.474Z"
   },
   {
    "duration": 1161,
    "start_time": "2024-08-06T19:09:22.441Z"
   },
   {
    "duration": 172,
    "start_time": "2024-08-06T19:09:23.918Z"
   },
   {
    "duration": 21,
    "start_time": "2024-08-06T19:10:38.049Z"
   },
   {
    "duration": 14,
    "start_time": "2024-08-06T19:10:41.132Z"
   },
   {
    "duration": 356,
    "start_time": "2024-08-06T19:10:51.570Z"
   },
   {
    "duration": 23,
    "start_time": "2024-08-06T19:11:25.233Z"
   },
   {
    "duration": 16,
    "start_time": "2024-08-06T19:11:35.089Z"
   },
   {
    "duration": 446,
    "start_time": "2024-08-06T19:11:39.267Z"
   },
   {
    "duration": 9,
    "start_time": "2024-08-06T19:15:18.397Z"
   },
   {
    "duration": 12,
    "start_time": "2024-08-06T19:15:35.067Z"
   },
   {
    "duration": 236,
    "start_time": "2024-08-06T19:17:37.724Z"
   },
   {
    "duration": 11,
    "start_time": "2024-08-06T19:19:00.414Z"
   },
   {
    "duration": 340,
    "start_time": "2024-08-06T19:21:12.116Z"
   },
   {
    "duration": 313,
    "start_time": "2024-08-06T19:21:48.949Z"
   },
   {
    "duration": 311,
    "start_time": "2024-08-06T19:22:40.888Z"
   },
   {
    "duration": 308,
    "start_time": "2024-08-06T19:24:06.176Z"
   },
   {
    "duration": 319,
    "start_time": "2024-08-06T19:24:34.478Z"
   },
   {
    "duration": 10,
    "start_time": "2024-08-06T19:28:28.174Z"
   },
   {
    "duration": 82,
    "start_time": "2024-08-06T19:33:06.645Z"
   },
   {
    "duration": 14,
    "start_time": "2024-08-06T19:33:16.883Z"
   },
   {
    "duration": 4325,
    "start_time": "2024-08-07T14:21:34.079Z"
   },
   {
    "duration": 28,
    "start_time": "2024-08-07T14:21:38.407Z"
   },
   {
    "duration": 15,
    "start_time": "2024-08-07T14:21:38.438Z"
   },
   {
    "duration": 15,
    "start_time": "2024-08-07T14:21:38.460Z"
   },
   {
    "duration": 14,
    "start_time": "2024-08-07T14:21:38.478Z"
   },
   {
    "duration": 50,
    "start_time": "2024-08-07T14:21:38.494Z"
   },
   {
    "duration": 7,
    "start_time": "2024-08-07T14:21:38.548Z"
   },
   {
    "duration": 14,
    "start_time": "2024-08-07T14:21:38.559Z"
   },
   {
    "duration": 10,
    "start_time": "2024-08-07T14:21:38.577Z"
   },
   {
    "duration": 46,
    "start_time": "2024-08-07T14:21:38.592Z"
   },
   {
    "duration": 9,
    "start_time": "2024-08-07T14:21:38.641Z"
   },
   {
    "duration": 12,
    "start_time": "2024-08-07T14:21:38.653Z"
   },
   {
    "duration": 19,
    "start_time": "2024-08-07T14:21:38.668Z"
   },
   {
    "duration": 47,
    "start_time": "2024-08-07T14:21:38.690Z"
   },
   {
    "duration": 18,
    "start_time": "2024-08-07T14:21:38.740Z"
   },
   {
    "duration": 17,
    "start_time": "2024-08-07T14:21:38.761Z"
   },
   {
    "duration": 253,
    "start_time": "2024-08-07T14:21:38.781Z"
   },
   {
    "duration": 23,
    "start_time": "2024-08-07T14:21:39.037Z"
   },
   {
    "duration": 419,
    "start_time": "2024-08-07T14:21:39.063Z"
   },
   {
    "duration": 32,
    "start_time": "2024-08-07T14:21:39.485Z"
   },
   {
    "duration": 362,
    "start_time": "2024-08-07T14:21:39.535Z"
   },
   {
    "duration": 11,
    "start_time": "2024-08-07T14:21:39.900Z"
   },
   {
    "duration": 32,
    "start_time": "2024-08-07T14:21:39.915Z"
   },
   {
    "duration": 335,
    "start_time": "2024-08-07T14:21:39.951Z"
   },
   {
    "duration": 23,
    "start_time": "2024-08-07T14:21:40.289Z"
   },
   {
    "duration": 33,
    "start_time": "2024-08-07T14:21:40.315Z"
   },
   {
    "duration": 360,
    "start_time": "2024-08-07T14:21:40.351Z"
   },
   {
    "duration": 419,
    "start_time": "2024-08-07T14:21:40.718Z"
   },
   {
    "duration": 10,
    "start_time": "2024-08-07T14:21:41.141Z"
   },
   {
    "duration": 6,
    "start_time": "2024-08-07T14:21:41.154Z"
   },
   {
    "duration": 354,
    "start_time": "2024-08-07T14:21:41.163Z"
   },
   {
    "duration": 23,
    "start_time": "2024-08-07T14:21:41.520Z"
   },
   {
    "duration": 22,
    "start_time": "2024-08-07T14:30:45.780Z"
   },
   {
    "duration": 15,
    "start_time": "2024-08-07T14:31:09.471Z"
   },
   {
    "duration": 522,
    "start_time": "2024-08-07T14:32:24.738Z"
   },
   {
    "duration": 359,
    "start_time": "2024-08-07T14:35:34.300Z"
   },
   {
    "duration": 407,
    "start_time": "2024-08-07T14:41:33.484Z"
   },
   {
    "duration": 32,
    "start_time": "2024-08-07T14:41:57.361Z"
   },
   {
    "duration": 11,
    "start_time": "2024-08-07T14:42:30.008Z"
   },
   {
    "duration": 4396,
    "start_time": "2024-08-07T16:15:29.864Z"
   },
   {
    "duration": 26,
    "start_time": "2024-08-07T16:15:34.263Z"
   },
   {
    "duration": 16,
    "start_time": "2024-08-07T16:15:34.291Z"
   },
   {
    "duration": 27,
    "start_time": "2024-08-07T16:15:34.311Z"
   },
   {
    "duration": 15,
    "start_time": "2024-08-07T16:15:34.341Z"
   },
   {
    "duration": 13,
    "start_time": "2024-08-07T16:15:34.360Z"
   },
   {
    "duration": 8,
    "start_time": "2024-08-07T16:15:34.376Z"
   },
   {
    "duration": 14,
    "start_time": "2024-08-07T16:15:34.428Z"
   },
   {
    "duration": 11,
    "start_time": "2024-08-07T16:15:34.445Z"
   },
   {
    "duration": 5,
    "start_time": "2024-08-07T16:15:34.464Z"
   },
   {
    "duration": 54,
    "start_time": "2024-08-07T16:15:34.473Z"
   },
   {
    "duration": 8,
    "start_time": "2024-08-07T16:15:34.531Z"
   },
   {
    "duration": 19,
    "start_time": "2024-08-07T16:15:34.542Z"
   },
   {
    "duration": 6,
    "start_time": "2024-08-07T16:15:34.564Z"
   },
   {
    "duration": 61,
    "start_time": "2024-08-07T16:15:34.573Z"
   },
   {
    "duration": 17,
    "start_time": "2024-08-07T16:15:34.637Z"
   },
   {
    "duration": 253,
    "start_time": "2024-08-07T16:15:34.658Z"
   },
   {
    "duration": 29,
    "start_time": "2024-08-07T16:15:34.915Z"
   },
   {
    "duration": 365,
    "start_time": "2024-08-07T16:15:34.948Z"
   },
   {
    "duration": 36,
    "start_time": "2024-08-07T16:15:35.316Z"
   },
   {
    "duration": 345,
    "start_time": "2024-08-07T16:15:35.356Z"
   },
   {
    "duration": 23,
    "start_time": "2024-08-07T16:15:35.704Z"
   },
   {
    "duration": 16,
    "start_time": "2024-08-07T16:15:35.731Z"
   },
   {
    "duration": 379,
    "start_time": "2024-08-07T16:15:35.750Z"
   },
   {
    "duration": 22,
    "start_time": "2024-08-07T16:15:36.132Z"
   },
   {
    "duration": 14,
    "start_time": "2024-08-07T16:15:36.157Z"
   },
   {
    "duration": 389,
    "start_time": "2024-08-07T16:15:36.174Z"
   },
   {
    "duration": 457,
    "start_time": "2024-08-07T16:15:36.569Z"
   },
   {
    "duration": 10,
    "start_time": "2024-08-07T16:15:37.029Z"
   },
   {
    "duration": 6,
    "start_time": "2024-08-07T16:15:37.042Z"
   },
   {
    "duration": 358,
    "start_time": "2024-08-07T16:15:37.051Z"
   },
   {
    "duration": 21,
    "start_time": "2024-08-07T16:15:37.413Z"
   },
   {
    "duration": 456,
    "start_time": "2024-08-07T16:15:37.437Z"
   },
   {
    "duration": 4382,
    "start_time": "2024-08-07T17:03:16.498Z"
   },
   {
    "duration": 40,
    "start_time": "2024-08-07T17:03:20.884Z"
   },
   {
    "duration": 16,
    "start_time": "2024-08-07T17:03:20.927Z"
   },
   {
    "duration": 23,
    "start_time": "2024-08-07T17:03:20.947Z"
   },
   {
    "duration": 17,
    "start_time": "2024-08-07T17:03:20.972Z"
   },
   {
    "duration": 11,
    "start_time": "2024-08-07T17:03:20.993Z"
   },
   {
    "duration": 7,
    "start_time": "2024-08-07T17:03:21.007Z"
   },
   {
    "duration": 56,
    "start_time": "2024-08-07T17:03:21.018Z"
   },
   {
    "duration": 12,
    "start_time": "2024-08-07T17:03:21.077Z"
   },
   {
    "duration": 5,
    "start_time": "2024-08-07T17:03:21.097Z"
   },
   {
    "duration": 11,
    "start_time": "2024-08-07T17:03:21.104Z"
   },
   {
    "duration": 51,
    "start_time": "2024-08-07T17:03:21.117Z"
   },
   {
    "duration": 18,
    "start_time": "2024-08-07T17:03:21.171Z"
   },
   {
    "duration": 5,
    "start_time": "2024-08-07T17:03:21.192Z"
   },
   {
    "duration": 16,
    "start_time": "2024-08-07T17:03:21.200Z"
   },
   {
    "duration": 60,
    "start_time": "2024-08-07T17:03:21.220Z"
   },
   {
    "duration": 235,
    "start_time": "2024-08-07T17:03:21.284Z"
   },
   {
    "duration": 22,
    "start_time": "2024-08-07T17:03:21.522Z"
   },
   {
    "duration": 379,
    "start_time": "2024-08-07T17:03:21.548Z"
   },
   {
    "duration": 47,
    "start_time": "2024-08-07T17:03:21.930Z"
   },
   {
    "duration": 353,
    "start_time": "2024-08-07T17:03:21.980Z"
   },
   {
    "duration": 10,
    "start_time": "2024-08-07T17:03:22.336Z"
   },
   {
    "duration": 15,
    "start_time": "2024-08-07T17:03:22.367Z"
   },
   {
    "duration": 331,
    "start_time": "2024-08-07T17:03:22.387Z"
   },
   {
    "duration": 20,
    "start_time": "2024-08-07T17:03:22.722Z"
   },
   {
    "duration": 33,
    "start_time": "2024-08-07T17:03:22.746Z"
   },
   {
    "duration": 433,
    "start_time": "2024-08-07T17:03:22.783Z"
   },
   {
    "duration": 422,
    "start_time": "2024-08-07T17:03:23.223Z"
   },
   {
    "duration": 21,
    "start_time": "2024-08-07T17:03:23.648Z"
   },
   {
    "duration": 6,
    "start_time": "2024-08-07T17:03:23.672Z"
   },
   {
    "duration": 339,
    "start_time": "2024-08-07T17:03:23.681Z"
   },
   {
    "duration": 14,
    "start_time": "2024-08-07T17:03:24.023Z"
   },
   {
    "duration": 484,
    "start_time": "2024-08-07T17:03:24.040Z"
   },
   {
    "duration": 473,
    "start_time": "2024-08-07T17:05:10.035Z"
   },
   {
    "duration": 204,
    "start_time": "2024-08-07T17:05:55.583Z"
   },
   {
    "duration": 648,
    "start_time": "2024-08-07T17:06:56.589Z"
   },
   {
    "duration": 22,
    "start_time": "2024-08-07T17:21:08.236Z"
   },
   {
    "duration": 326,
    "start_time": "2024-08-07T17:21:24.914Z"
   },
   {
    "duration": 616,
    "start_time": "2024-08-07T17:22:34.830Z"
   },
   {
    "duration": 4287,
    "start_time": "2024-08-08T15:03:07.537Z"
   },
   {
    "duration": 32,
    "start_time": "2024-08-08T15:03:11.828Z"
   },
   {
    "duration": 15,
    "start_time": "2024-08-08T15:03:11.864Z"
   },
   {
    "duration": 16,
    "start_time": "2024-08-08T15:03:11.883Z"
   },
   {
    "duration": 39,
    "start_time": "2024-08-08T15:03:11.902Z"
   },
   {
    "duration": 12,
    "start_time": "2024-08-08T15:03:11.944Z"
   },
   {
    "duration": 8,
    "start_time": "2024-08-08T15:03:11.959Z"
   },
   {
    "duration": 15,
    "start_time": "2024-08-08T15:03:11.969Z"
   },
   {
    "duration": 54,
    "start_time": "2024-08-08T15:03:11.987Z"
   },
   {
    "duration": 5,
    "start_time": "2024-08-08T15:03:12.047Z"
   },
   {
    "duration": 10,
    "start_time": "2024-08-08T15:03:12.055Z"
   },
   {
    "duration": 8,
    "start_time": "2024-08-08T15:03:12.067Z"
   },
   {
    "duration": 64,
    "start_time": "2024-08-08T15:03:12.078Z"
   },
   {
    "duration": 6,
    "start_time": "2024-08-08T15:03:12.145Z"
   },
   {
    "duration": 16,
    "start_time": "2024-08-08T15:03:12.155Z"
   },
   {
    "duration": 17,
    "start_time": "2024-08-08T15:03:12.174Z"
   },
   {
    "duration": 258,
    "start_time": "2024-08-08T15:03:12.194Z"
   },
   {
    "duration": 20,
    "start_time": "2024-08-08T15:03:12.458Z"
   },
   {
    "duration": 416,
    "start_time": "2024-08-08T15:03:12.481Z"
   },
   {
    "duration": 43,
    "start_time": "2024-08-08T15:03:12.900Z"
   },
   {
    "duration": 351,
    "start_time": "2024-08-08T15:03:12.946Z"
   },
   {
    "duration": 11,
    "start_time": "2024-08-08T15:03:13.300Z"
   },
   {
    "duration": 31,
    "start_time": "2024-08-08T15:03:13.315Z"
   },
   {
    "duration": 340,
    "start_time": "2024-08-08T15:03:13.349Z"
   },
   {
    "duration": 22,
    "start_time": "2024-08-08T15:03:13.692Z"
   },
   {
    "duration": 21,
    "start_time": "2024-08-08T15:03:13.733Z"
   },
   {
    "duration": 346,
    "start_time": "2024-08-08T15:03:13.758Z"
   },
   {
    "duration": 394,
    "start_time": "2024-08-08T15:03:14.110Z"
   },
   {
    "duration": 10,
    "start_time": "2024-08-08T15:03:14.507Z"
   },
   {
    "duration": 17,
    "start_time": "2024-08-08T15:03:14.520Z"
   },
   {
    "duration": 358,
    "start_time": "2024-08-08T15:03:14.540Z"
   },
   {
    "duration": 15,
    "start_time": "2024-08-08T15:03:14.901Z"
   },
   {
    "duration": 1780,
    "start_time": "2024-08-08T15:03:14.918Z"
   },
   {
    "duration": 0,
    "start_time": "2024-08-08T15:03:16.701Z"
   },
   {
    "duration": 12,
    "start_time": "2024-08-08T15:04:55.886Z"
   },
   {
    "duration": 5153,
    "start_time": "2024-08-08T15:10:06.461Z"
   },
   {
    "duration": 37,
    "start_time": "2024-08-08T15:10:11.618Z"
   },
   {
    "duration": 19,
    "start_time": "2024-08-08T15:10:11.659Z"
   },
   {
    "duration": 16,
    "start_time": "2024-08-08T15:10:11.684Z"
   },
   {
    "duration": 38,
    "start_time": "2024-08-08T15:10:11.703Z"
   },
   {
    "duration": 30,
    "start_time": "2024-08-08T15:10:11.744Z"
   },
   {
    "duration": 19,
    "start_time": "2024-08-08T15:10:11.783Z"
   },
   {
    "duration": 14,
    "start_time": "2024-08-08T15:10:11.809Z"
   },
   {
    "duration": 13,
    "start_time": "2024-08-08T15:10:11.832Z"
   },
   {
    "duration": 6,
    "start_time": "2024-08-08T15:10:11.853Z"
   },
   {
    "duration": 10,
    "start_time": "2024-08-08T15:10:11.864Z"
   },
   {
    "duration": 8,
    "start_time": "2024-08-08T15:10:11.877Z"
   },
   {
    "duration": 22,
    "start_time": "2024-08-08T15:10:11.933Z"
   },
   {
    "duration": 5,
    "start_time": "2024-08-08T15:10:11.958Z"
   },
   {
    "duration": 20,
    "start_time": "2024-08-08T15:10:11.966Z"
   },
   {
    "duration": 83,
    "start_time": "2024-08-08T15:10:11.989Z"
   },
   {
    "duration": 371,
    "start_time": "2024-08-08T15:10:12.075Z"
   },
   {
    "duration": 30,
    "start_time": "2024-08-08T15:10:12.450Z"
   },
   {
    "duration": 512,
    "start_time": "2024-08-08T15:10:12.484Z"
   },
   {
    "duration": 62,
    "start_time": "2024-08-08T15:10:13.000Z"
   },
   {
    "duration": 358,
    "start_time": "2024-08-08T15:10:13.065Z"
   },
   {
    "duration": 13,
    "start_time": "2024-08-08T15:10:13.433Z"
   },
   {
    "duration": 18,
    "start_time": "2024-08-08T15:10:13.450Z"
   },
   {
    "duration": 425,
    "start_time": "2024-08-08T15:10:13.472Z"
   },
   {
    "duration": 33,
    "start_time": "2024-08-08T15:10:13.903Z"
   },
   {
    "duration": 24,
    "start_time": "2024-08-08T15:10:13.939Z"
   },
   {
    "duration": 391,
    "start_time": "2024-08-08T15:10:13.965Z"
   },
   {
    "duration": 479,
    "start_time": "2024-08-08T15:10:14.363Z"
   },
   {
    "duration": 11,
    "start_time": "2024-08-08T15:10:14.846Z"
   },
   {
    "duration": 9,
    "start_time": "2024-08-08T15:10:14.860Z"
   },
   {
    "duration": 354,
    "start_time": "2024-08-08T15:10:14.872Z"
   },
   {
    "duration": 14,
    "start_time": "2024-08-08T15:10:15.231Z"
   },
   {
    "duration": 515,
    "start_time": "2024-08-08T15:10:15.248Z"
   },
   {
    "duration": 691,
    "start_time": "2024-08-08T15:10:15.766Z"
   },
   {
    "duration": 12,
    "start_time": "2024-08-08T15:11:00.573Z"
   },
   {
    "duration": 14,
    "start_time": "2024-08-08T15:11:44.213Z"
   },
   {
    "duration": 16,
    "start_time": "2024-08-08T15:12:18.337Z"
   },
   {
    "duration": 13,
    "start_time": "2024-08-08T15:13:28.586Z"
   },
   {
    "duration": 465,
    "start_time": "2024-08-08T15:18:38.974Z"
   },
   {
    "duration": 16,
    "start_time": "2024-08-08T15:19:30.565Z"
   },
   {
    "duration": 7,
    "start_time": "2024-08-08T15:20:46.873Z"
   },
   {
    "duration": 8,
    "start_time": "2024-08-08T15:20:52.067Z"
   },
   {
    "duration": 7,
    "start_time": "2024-08-08T15:20:58.680Z"
   },
   {
    "duration": 6,
    "start_time": "2024-08-08T15:21:06.387Z"
   },
   {
    "duration": 15,
    "start_time": "2024-08-08T15:36:56.234Z"
   },
   {
    "duration": 15,
    "start_time": "2024-08-08T15:41:29.488Z"
   },
   {
    "duration": 18,
    "start_time": "2024-08-08T15:42:37.607Z"
   },
   {
    "duration": 716,
    "start_time": "2024-08-10T03:52:58.894Z"
   },
   {
    "duration": 69,
    "start_time": "2024-08-10T03:52:59.613Z"
   },
   {
    "duration": 25,
    "start_time": "2024-08-10T03:52:59.685Z"
   },
   {
    "duration": 15,
    "start_time": "2024-08-10T03:52:59.714Z"
   },
   {
    "duration": 14,
    "start_time": "2024-08-10T03:52:59.733Z"
   },
   {
    "duration": 12,
    "start_time": "2024-08-10T03:52:59.751Z"
   },
   {
    "duration": 6,
    "start_time": "2024-08-10T03:52:59.810Z"
   },
   {
    "duration": 14,
    "start_time": "2024-08-10T03:52:59.820Z"
   },
   {
    "duration": 11,
    "start_time": "2024-08-10T03:52:59.836Z"
   },
   {
    "duration": 5,
    "start_time": "2024-08-10T03:52:59.852Z"
   },
   {
    "duration": 50,
    "start_time": "2024-08-10T03:52:59.860Z"
   },
   {
    "duration": 8,
    "start_time": "2024-08-10T03:52:59.913Z"
   },
   {
    "duration": 19,
    "start_time": "2024-08-10T03:52:59.926Z"
   },
   {
    "duration": 5,
    "start_time": "2024-08-10T03:52:59.948Z"
   },
   {
    "duration": 61,
    "start_time": "2024-08-10T03:52:59.956Z"
   },
   {
    "duration": 18,
    "start_time": "2024-08-10T03:53:00.019Z"
   },
   {
    "duration": 235,
    "start_time": "2024-08-10T03:53:00.040Z"
   },
   {
    "duration": 35,
    "start_time": "2024-08-10T03:53:00.278Z"
   },
   {
    "duration": 357,
    "start_time": "2024-08-10T03:53:00.316Z"
   },
   {
    "duration": 44,
    "start_time": "2024-08-10T03:53:00.676Z"
   },
   {
    "duration": 335,
    "start_time": "2024-08-10T03:53:00.723Z"
   },
   {
    "duration": 10,
    "start_time": "2024-08-10T03:53:01.062Z"
   },
   {
    "duration": 40,
    "start_time": "2024-08-10T03:53:01.075Z"
   },
   {
    "duration": 310,
    "start_time": "2024-08-10T03:53:01.118Z"
   },
   {
    "duration": 21,
    "start_time": "2024-08-10T03:53:01.431Z"
   },
   {
    "duration": 21,
    "start_time": "2024-08-10T03:53:01.457Z"
   },
   {
    "duration": 379,
    "start_time": "2024-08-10T03:53:01.482Z"
   },
   {
    "duration": 442,
    "start_time": "2024-08-10T03:53:01.868Z"
   },
   {
    "duration": 11,
    "start_time": "2024-08-10T03:53:02.313Z"
   },
   {
    "duration": 6,
    "start_time": "2024-08-10T03:53:02.327Z"
   },
   {
    "duration": 346,
    "start_time": "2024-08-10T03:53:02.336Z"
   },
   {
    "duration": 23,
    "start_time": "2024-08-10T03:53:02.685Z"
   },
   {
    "duration": 506,
    "start_time": "2024-08-10T03:53:02.712Z"
   },
   {
    "duration": 15,
    "start_time": "2024-08-10T03:53:03.222Z"
   },
   {
    "duration": 16,
    "start_time": "2024-08-10T03:53:03.239Z"
   },
   {
    "duration": 51,
    "start_time": "2024-08-10T03:53:03.261Z"
   },
   {
    "duration": 18,
    "start_time": "2024-08-10T03:53:03.316Z"
   },
   {
    "duration": 634,
    "start_time": "2024-08-10T03:53:03.337Z"
   },
   {
    "duration": 10,
    "start_time": "2024-08-10T03:57:02.652Z"
   },
   {
    "duration": 12,
    "start_time": "2024-08-10T03:57:09.207Z"
   }
  ],
  "kernelspec": {
   "display_name": "Python 3",
   "language": "python",
   "name": "python3"
  },
  "language_info": {
   "codemirror_mode": {
    "name": "ipython",
    "version": 3
   },
   "file_extension": ".py",
   "mimetype": "text/x-python",
   "name": "python",
   "nbconvert_exporter": "python",
   "pygments_lexer": "ipython3",
   "version": "3.12.7"
  },
  "toc": {
   "base_numbering": 1,
   "nav_menu": {},
   "number_sections": true,
   "sideBar": true,
   "skip_h1_title": true,
   "title_cell": "Table of Contents",
   "title_sidebar": "Contents",
   "toc_cell": false,
   "toc_position": {},
   "toc_section_display": true,
   "toc_window_display": false
  }
 },
 "nbformat": 4,
 "nbformat_minor": 2
}
